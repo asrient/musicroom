{
 "cells": [
  {
   "attachments": {},
   "cell_type": "markdown",
   "metadata": {},
   "source": [
    "# Hybrid system analysis\n",
    "\n"
   ]
  },
  {
   "cell_type": "markdown",
   "metadata": {},
   "source": [
    "# Load Data"
   ]
  },
  {
   "cell_type": "code",
   "execution_count": 1,
   "metadata": {},
   "outputs": [
    {
     "name": "stderr",
     "output_type": "stream",
     "text": [
      "Setting default log level to \"WARN\".\n",
      "To adjust logging level use sc.setLogLevel(newLevel). For SparkR, use setLogLevel(newLevel).\n"
     ]
    },
    {
     "name": "stdout",
     "output_type": "stream",
     "text": [
      "23/04/22 01:39:23 WARN NativeCodeLoader: Unable to load native-hadoop library for your platform... using builtin-java classes where applicable\n"
     ]
    }
   ],
   "source": [
    "import os\n",
    "import pandas as pd\n",
    "from pyspark.sql import functions as F\n",
    "\n",
    "from Recommendor import ALSRecommendor\n",
    "\n",
    "\n",
    "spark = ALSRecommendor.setup_spark()\n",
    "r = ALSRecommendor(spark)"
   ]
  },
  {
   "cell_type": "code",
   "execution_count": 2,
   "metadata": {},
   "outputs": [
    {
     "name": "stderr",
     "output_type": "stream",
     "text": [
      "/Users/aritra/Library/Python/3.9/lib/python/site-packages/pyspark/sql/pandas/conversion.py:604: FutureWarning: iteritems is deprecated and will be removed in a future version. Use .items instead.\n",
      "  [(c, t) for (_, c), t in zip(pdf_slice.iteritems(), arrow_types)]\n"
     ]
    }
   ],
   "source": [
    "r.load_data_from_csv('../../data/tmp/listening_history.csv')"
   ]
  },
  {
   "cell_type": "code",
   "execution_count": 13,
   "metadata": {},
   "outputs": [],
   "source": [
    "# blob = storage.blob.Blob(\"tracks_metadata.csv\", bucket)\n",
    "# blob"
   ]
  },
  {
   "cell_type": "code",
   "execution_count": 3,
   "metadata": {},
   "outputs": [],
   "source": [
    "group_users = [83, 1855, 1657, 26, 1239]"
   ]
  },
  {
   "cell_type": "code",
   "execution_count": 59,
   "metadata": {},
   "outputs": [
    {
     "name": "stdout",
     "output_type": "stream",
     "text": [
      "all data prepared!\n",
      "About to start training..\n"
     ]
    },
    {
     "name": "stderr",
     "output_type": "stream",
     "text": [
      "                                                                                \r"
     ]
    },
    {
     "name": "stdout",
     "output_type": "stream",
     "text": [
      "Training done. Analyzing rmse..\n"
     ]
    },
    {
     "name": "stderr",
     "output_type": "stream",
     "text": [
      "[Stage 2141:=================================================>      (8 + 1) / 9]\r"
     ]
    },
    {
     "name": "stdout",
     "output_type": "stream",
     "text": [
      "The final RMSE on the test set is 6.219487220499653\n"
     ]
    },
    {
     "name": "stderr",
     "output_type": "stream",
     "text": [
      "                                                                                \r"
     ]
    }
   ],
   "source": [
    "previous_rmse = r.train(rank=6, regParam=0.25)"
   ]
  },
  {
   "cell_type": "code",
   "execution_count": 56,
   "metadata": {},
   "outputs": [
    {
     "name": "stderr",
     "output_type": "stream",
     "text": [
      "                                                                                \r"
     ]
    },
    {
     "name": "stdout",
     "output_type": "stream",
     "text": [
      "+-----------+----------+\n",
      "|new_trackid|new_userid|\n",
      "+-----------+----------+\n",
      "|         37|      1855|\n",
      "|        100|      1239|\n",
      "|          1|      1239|\n",
      "|        163|        83|\n",
      "|       1467|      1239|\n",
      "|        432|      1657|\n",
      "|        268|      1239|\n",
      "|        660|        26|\n",
      "|        218|      1239|\n",
      "|        560|      1657|\n",
      "|        514|      1657|\n",
      "|        397|      1657|\n",
      "|        118|        26|\n",
      "|        485|      1239|\n",
      "|         30|      1239|\n",
      "|         58|        83|\n",
      "|         20|        26|\n",
      "|        515|      1239|\n",
      "|         75|        26|\n",
      "|         93|        26|\n",
      "+-----------+----------+\n",
      "only showing top 20 rows\n",
      "\n"
     ]
    },
    {
     "name": "stderr",
     "output_type": "stream",
     "text": [
      "                                                                                \r"
     ]
    },
    {
     "name": "stdout",
     "output_type": "stream",
     "text": [
      "+-----------+-----+\n",
      "|new_trackid|count|\n",
      "+-----------+-----+\n",
      "|         31|    5|\n",
      "|        243|    5|\n",
      "|        148|    5|\n",
      "+-----------+-----+\n",
      "only showing top 3 rows\n",
      "\n"
     ]
    },
    {
     "name": "stderr",
     "output_type": "stream",
     "text": [
      "                                                                                \r"
     ]
    }
   ],
   "source": [
    "from pyspark.sql.functions import sum, col, desc, count, asc\n",
    "\n",
    "tracks = r.test_df.filter(r.test_df['new_userid'].isin(group_users)).select('new_trackid', 'new_userid').distinct()\n",
    "tracks.show()\n",
    "tracks = tracks.groupby('new_trackid').agg(count('new_userid').alias('count'))\n",
    "tracks = tracks.sort(desc('count'))\n",
    "tracks.show(3)\n",
    "liked_tracks = []\n",
    "for track in tracks.head(25):\n",
    "    liked_tracks.append(track['new_trackid'])"
   ]
  },
  {
   "cell_type": "code",
   "execution_count": 58,
   "metadata": {},
   "outputs": [
    {
     "name": "stderr",
     "output_type": "stream",
     "text": [
      "[Stage 2018:>                                                       (0 + 1) / 1]\r"
     ]
    },
    {
     "name": "stdout",
     "output_type": "stream",
     "text": [
      "Hybrid RMSE for group: 4.959541189280771\n"
     ]
    },
    {
     "name": "stderr",
     "output_type": "stream",
     "text": [
      "                                                                                \r"
     ]
    }
   ],
   "source": [
    "df = r.test_df.filter(r.test_df['new_userid'].isin(group_users)).filter(r.test_df['new_trackid'].isin(liked_tracks))\n",
    "predict_df = r.model.transform(df)\n",
    "predicted_test_df = predict_df.filter(predict_df.prediction != float('nan'))\n",
    "# round to int\n",
    "predicted_test_df = predicted_test_df.withColumn(\"prediction\", F.abs(F.round(predicted_test_df[\"prediction\"],0)))\n",
    "test_RMSE = r.eval_metric.evaluate(predicted_test_df)\n",
    "print('Hybrid RMSE for group:', test_RMSE)"
   ]
  },
  {
   "cell_type": "code",
   "execution_count": 70,
   "metadata": {},
   "outputs": [
    {
     "data": {
      "image/png": "[encoded data removed]",
      "text/plain": [
       "<Figure size 700x400 with 1 Axes>"
      ]
     },
     "metadata": {},
     "output_type": "display_data"
    }
   ],
   "source": [
    "from matplotlib import pyplot as plt\n",
    "%matplotlib inline\n",
    "\n",
    "data = {'Popularity Ranking': 7.5, 'Collaborative Filtering': previous_rmse,\n",
    "        'Hybrid Approach':test_RMSE}\n",
    "\n",
    "methods = list(data.keys())\n",
    "values = list(data.values())\n",
    "\n",
    "fig = plt.figure(figsize = (7, 4))\n",
    " \n",
    "# creating the bar plot\n",
    "plt.bar(methods, values, color ='brown',\n",
    "        width = 0.3)\n",
    "\n",
    "plt.ylabel(\"RMSE\")\n",
    "plt.title(\"RMSE for different recommendation approaches\")\n",
    "plt.show()"
   ]
  }
 ],
 "metadata": {
  "kernelspec": {
   "display_name": "Python 3",
   "language": "python",
   "name": "python3"
  },
  "language_info": {
   "codemirror_mode": {
    "name": "ipython",
    "version": 3
   },
   "file_extension": ".py",
   "mimetype": "text/x-python",
   "name": "python",
   "nbconvert_exporter": "python",
   "pygments_lexer": "ipython3",
   "version": "3.9.6"
  }
 },
 "nbformat": 4,
 "nbformat_minor": 4
}
