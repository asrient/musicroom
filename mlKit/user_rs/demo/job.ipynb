{
  "cells": [
    {
      "cell_type": "markdown",
      "metadata": {
        "id": "VmcaGKt6e23l"
      },
      "source": [
        "# Collaborative Filtering Song Recommendation System  \n",
        "\n",
        "- Personalized playlist - based on Alternative Least Square algorithm \n",
        "\n",
        "_______________________________________________________________________\n",
        "\n",
        "\n",
        "# Objective\n",
        "\n",
        "- Load data from csv file. format: (userId, trackId, freq).\n",
        "- Use predefined parameters from exploration notebook for ALS algorithm.\n",
        "- predict 20 unlistened songs for each user.\n",
        "- Write the final recommendations to a csv file. \n"
      ]
    },
    {
      "cell_type": "markdown",
      "metadata": {
        "id": "wPipnPbLe23o"
      },
      "source": [
        "# Set up"
      ]
    },
    {
      "cell_type": "code",
      "execution_count": 3,
      "metadata": {
        "colab": {
          "base_uri": "https://localhost:8080/"
        },
        "id": "MqTDgDOYhACb",
        "outputId": "fc7e335f-945e-45b6-d1b5-9bff172b9633"
      },
      "outputs": [],
      "source": [
        "import sys\n",
        "sys.path.insert(0,'.')\n",
        "# !pip install pandas pyspark\n",
        "\n",
        "# import os\n",
        "# import sys\n",
        "\n",
        "# os.environ['PYSPARK_PYTHON'] = sys.executable\n",
        "# os.environ['PYSPARK_DRIVER_PYTHON'] = sys.executable"
      ]
    },
    {
      "cell_type": "code",
      "execution_count": 4,
      "metadata": {
        "id": "TvGKp5zwe23p"
      },
      "outputs": [
        {
          "name": "stderr",
          "output_type": "stream",
          "text": [
            "Setting default log level to \"WARN\".\n",
            "To adjust logging level use sc.setLogLevel(newLevel). For SparkR, use setLogLevel(newLevel).\n"
          ]
        },
        {
          "name": "stdout",
          "output_type": "stream",
          "text": [
            "23/03/31 23:04:55 WARN NativeCodeLoader: Unable to load native-hadoop library for your platform... using builtin-java classes where applicable\n",
            "23/03/31 23:04:56 WARN Utils: Service 'SparkUI' could not bind on port 4040. Attempting port 4041.\n"
          ]
        }
      ],
      "source": [
        "# spark configuration\n",
        "# I might be wrong, but even running 3G file on spark is very memory consuming\n",
        "# 6s\n",
        "from Recommendor import ALSRecommendor\n",
        "\n",
        "\n",
        "spark = ALSRecommendor.setup_spark()\n",
        "r = ALSRecommendor(spark)"
      ]
    },
    {
      "cell_type": "markdown",
      "metadata": {
        "id": "WP0Y4-yIe23q"
      },
      "source": [
        "# Preprocess Data"
      ]
    },
    {
      "cell_type": "code",
      "execution_count": null,
      "metadata": {
        "id": "YQFIOoY3e23r"
      },
      "outputs": [
        {
          "name": "stderr",
          "output_type": "stream",
          "text": [
            "/Users/aritra/Library/Python/3.9/lib/python/site-packages/pyspark/sql/pandas/conversion.py:604: FutureWarning: iteritems is deprecated and will be removed in a future version. Use .items instead.\n",
            "  [(c, t) for (_, c), t in zip(pdf_slice.iteritems(), arrow_types)]\n"
          ]
        }
      ],
      "source": [
        "r.load_data_from_csv('../../data/tmp/listening_history.csv')"
      ]
    },
    {
      "cell_type": "markdown",
      "metadata": {
        "id": "wKTlNJ1Pe23r"
      },
      "source": [
        "# Collaborative Filtering"
      ]
    },
    {
      "cell_type": "markdown",
      "metadata": {
        "id": "6n4UHybLe23r"
      },
      "source": [
        "Assumption: if person A and B share similar listening history, A might be also interested in B's other songs.\n",
        "\n",
        "For this history, as for each user, we have song plays frequency for only a subset of the songs, because not all users listened to all songs. \n",
        "\n",
        "The intuition is that collaborative filtering would be able to approximate the matrix; which decompomises the matrix as the product of \"user property\" cross \"song property\".\n",
        "\n",
        "Optimization with ALS algorithm:\n",
        "\n",
        "1. First randomly fill in the users matrix.\n",
        "2. Optimize the song values that the error is minimized (least squared error).\n",
        "3. Then, hold song's value fixed and optimize the user matrix (that's why it's called alternation)."
      ]
    },
    {
      "cell_type": "markdown",
      "metadata": {
        "id": "AnPeFn5ye23s"
      },
      "source": [
        "## Alternative Least Square (ALS) with Spark ML\n",
        "\n",
        "\n",
        "- Initialize ALS with Spark ML\n",
        "- Set RMSE as evaluation metric\n",
        "- Perform Cross Validation - Grid Search to find the best parameters\n",
        "- Generate personalized playlists based on listening history"
      ]
    },
    {
      "cell_type": "code",
      "execution_count": null,
      "metadata": {
        "colab": {
          "base_uri": "https://localhost:8080/",
          "height": 1000
        },
        "id": "Glpcf96Pe23s",
        "outputId": "6bc1b2e9-db7f-4d39-cf53-400c16ad2ae1"
      },
      "outputs": [
        {
          "name": "stdout",
          "output_type": "stream",
          "text": [
            "all data prepared!\n",
            "About to start training..\n"
          ]
        },
        {
          "name": "stderr",
          "output_type": "stream",
          "text": [
            "[Stage 0:>                                                          (0 + 0) / 8]\r"
          ]
        },
        {
          "name": "stdout",
          "output_type": "stream",
          "text": [
            "23/03/31 21:12:16 WARN TaskSetManager: Stage 0 contains a task of very large size (183115 KiB). The maximum recommended task size is 1000 KiB.\n"
          ]
        },
        {
          "name": "stderr",
          "output_type": "stream",
          "text": [
            "[Stage 0:>    (0 + 8) / 8][Stage 1:>    (0 + 0) / 8][Stage 3:>    (0 + 0) / 8]8]\r"
          ]
        },
        {
          "name": "stdout",
          "output_type": "stream",
          "text": [
            "23/03/31 21:12:31 WARN TaskSetManager: Stage 1 contains a task of very large size (183115 KiB). The maximum recommended task size is 1000 KiB.\n"
          ]
        },
        {
          "name": "stderr",
          "output_type": "stream",
          "text": [
            "[Stage 1:>                  (0 + 8) / 8][Stage 3:>                  (0 + 0) / 8]\r"
          ]
        },
        {
          "name": "stdout",
          "output_type": "stream",
          "text": [
            "23/03/31 21:12:40 WARN TaskSetManager: Stage 3 contains a task of very large size (183115 KiB). The maximum recommended task size is 1000 KiB.\n"
          ]
        },
        {
          "name": "stderr",
          "output_type": "stream",
          "text": [
            "                                                                                \r"
          ]
        },
        {
          "name": "stdout",
          "output_type": "stream",
          "text": [
            "23/03/31 21:16:38 WARN InstanceBuilder$NativeBLAS: Failed to load implementation from:dev.ludovic.netlib.blas.JNIBLAS\n",
            "23/03/31 21:16:38 WARN InstanceBuilder$NativeBLAS: Failed to load implementation from:dev.ludovic.netlib.blas.ForeignLinkerBLAS\n"
          ]
        },
        {
          "name": "stderr",
          "output_type": "stream",
          "text": [
            "[Stage 25:=============================================>           (8 + 2) / 10]\r"
          ]
        },
        {
          "name": "stdout",
          "output_type": "stream",
          "text": [
            "23/03/31 21:16:39 WARN InstanceBuilder$NativeLAPACK: Failed to load implementation from:dev.ludovic.netlib.lapack.JNILAPACK\n"
          ]
        },
        {
          "name": "stderr",
          "output_type": "stream",
          "text": [
            "                                                                                \r"
          ]
        },
        {
          "name": "stdout",
          "output_type": "stream",
          "text": [
            "Training done. Analyzing rmse..\n"
          ]
        },
        {
          "name": "stderr",
          "output_type": "stream",
          "text": [
            "[Stage 100:==================================================>      (8 + 1) / 9]\r"
          ]
        },
        {
          "name": "stdout",
          "output_type": "stream",
          "text": [
            "The final RMSE on the test set is 6.389258845800043\n"
          ]
        },
        {
          "name": "stderr",
          "output_type": "stream",
          "text": [
            "                                                                                \r"
          ]
        },
        {
          "data": {
            "text/plain": [
              "6.389258845800043"
            ]
          },
          "execution_count": 4,
          "metadata": {},
          "output_type": "execute_result"
        }
      ],
      "source": [
        "r.train(rank=6, regParam=0.25)"
      ]
    },
    {
      "cell_type": "markdown",
      "metadata": {
        "id": "7EbtB777e23t"
      },
      "source": [
        "### It seems to be a nice score. We need to examine the result to check if it can make sense."
      ]
    },
    {
      "cell_type": "markdown",
      "metadata": {
        "id": "K_-at8xue23t"
      },
      "source": [
        "# Evaluation on all users"
      ]
    },
    {
      "cell_type": "code",
      "execution_count": null,
      "metadata": {
        "id": "TyZ13wqye23u"
      },
      "outputs": [
        {
          "name": "stderr",
          "output_type": "stream",
          "text": [
            "                                                                                \r"
          ]
        }
      ],
      "source": [
        "# only recommend to users who have listened to more than 10 songs\n",
        "\n",
        "users = r.get_users(min_tracks_listened=10, limit=5)"
      ]
    },
    {
      "cell_type": "code",
      "execution_count": null,
      "metadata": {},
      "outputs": [
        {
          "name": "stdout",
          "output_type": "stream",
          "text": [
            "Generating recommendation for user 101 (testid)\n"
          ]
        },
        {
          "name": "stderr",
          "output_type": "stream",
          "text": [
            "                                                                                \r"
          ]
        },
        {
          "name": "stdout",
          "output_type": "stream",
          "text": [
            "listened_track count: 12\n"
          ]
        },
        {
          "name": "stderr",
          "output_type": "stream",
          "text": [
            "[Stage 175:=================================================>       (7 + 1) / 8]\r"
          ]
        },
        {
          "name": "stdout",
          "output_type": "stream",
          "text": [
            "+------------------+----------+\n",
            "|          track_id|prediction|\n",
            "+------------------+----------+\n",
            "|TRSGUQI128F92D452E|  3.565889|\n",
            "|TRPQGHT128E078D10A| 3.5387394|\n",
            "|TRGASNY128F14696B0| 3.2831128|\n",
            "|TRUPPJG12903C98EE6|  3.236645|\n",
            "|TRFRXRO12903D03A74| 3.1199164|\n",
            "+------------------+----------+\n",
            "only showing top 5 rows\n",
            "\n"
          ]
        },
        {
          "name": "stderr",
          "output_type": "stream",
          "text": [
            "                                                                                \r"
          ]
        }
      ],
      "source": [
        "df = r.recommend('testid', 101, limit=20)\n",
        "df.show(5)"
      ]
    },
    {
      "cell_type": "code",
      "execution_count": null,
      "metadata": {
        "id": "vOthACgbe23u"
      },
      "outputs": [
        {
          "name": "stdout",
          "output_type": "stream",
          "text": [
            "Generating recommendation for user 83 (106340f89e92b4b52041477f927993fd5ac278b8)\n"
          ]
        },
        {
          "name": "stderr",
          "output_type": "stream",
          "text": [
            "                                                                                \r"
          ]
        },
        {
          "name": "stdout",
          "output_type": "stream",
          "text": [
            "listened_track count: 104\n"
          ]
        },
        {
          "name": "stderr",
          "output_type": "stream",
          "text": [
            "                                                                                \r"
          ]
        },
        {
          "name": "stdout",
          "output_type": "stream",
          "text": [
            "+------------------+----------+\n",
            "|          track_id|prediction|\n",
            "+------------------+----------+\n",
            "|TRUPPJG12903C98EE6| 3.1896992|\n",
            "|TRSGUQI128F92D452E| 3.1324916|\n",
            "|TRPQGHT128E078D10A| 2.9886236|\n",
            "|TRGASNY128F14696B0|  2.950057|\n",
            "|TRFRXRO12903D03A74| 2.8017323|\n",
            "+------------------+----------+\n",
            "only showing top 5 rows\n",
            "\n",
            "Generating recommendation for user 1855 (04eaed85643f0f84f8255e9b3b1b22b7e682b991)\n"
          ]
        },
        {
          "name": "stderr",
          "output_type": "stream",
          "text": [
            "                                                                                \r"
          ]
        },
        {
          "name": "stdout",
          "output_type": "stream",
          "text": [
            "listened_track count: 12\n"
          ]
        },
        {
          "name": "stderr",
          "output_type": "stream",
          "text": [
            "                                                                                \r"
          ]
        },
        {
          "name": "stdout",
          "output_type": "stream",
          "text": [
            "+------------------+----------+\n",
            "|          track_id|prediction|\n",
            "+------------------+----------+\n",
            "|TRUPPJG12903C98EE6| 4.2846785|\n",
            "|TRSGUQI128F92D452E|  3.925344|\n",
            "|TRGASNY128F14696B0|   3.79862|\n",
            "|TRFRXRO12903D03A74| 3.6238704|\n",
            "|TRKGBAV128F1491622| 3.4721503|\n",
            "+------------------+----------+\n",
            "only showing top 5 rows\n",
            "\n",
            "Generating recommendation for user 1657 (8c174da0146bea17f71920e030eadcad491f09d0)\n"
          ]
        },
        {
          "name": "stderr",
          "output_type": "stream",
          "text": [
            "                                                                                \r"
          ]
        },
        {
          "name": "stdout",
          "output_type": "stream",
          "text": [
            "listened_track count: 19\n"
          ]
        },
        {
          "name": "stderr",
          "output_type": "stream",
          "text": [
            "                                                                                \r"
          ]
        },
        {
          "name": "stdout",
          "output_type": "stream",
          "text": [
            "+------------------+----------+\n",
            "|          track_id|prediction|\n",
            "+------------------+----------+\n",
            "|TRUPPJG12903C98EE6|  3.897885|\n",
            "|TRSGUQI128F92D452E| 3.8870978|\n",
            "|TRGASNY128F14696B0| 3.8285406|\n",
            "|TRFRXRO12903D03A74| 3.6314344|\n",
            "|TRDUQBK128F423EB4C| 3.5979087|\n",
            "+------------------+----------+\n",
            "only showing top 5 rows\n",
            "\n",
            "Generating recommendation for user 26 (f161aac4e91701299cc95bf3c269f966e0013663)\n"
          ]
        },
        {
          "name": "stderr",
          "output_type": "stream",
          "text": [
            "                                                                                \r"
          ]
        },
        {
          "name": "stdout",
          "output_type": "stream",
          "text": [
            "listened_track count: 92\n"
          ]
        },
        {
          "name": "stderr",
          "output_type": "stream",
          "text": [
            "                                                                                \r"
          ]
        },
        {
          "name": "stdout",
          "output_type": "stream",
          "text": [
            "+------------------+----------+\n",
            "|          track_id|prediction|\n",
            "+------------------+----------+\n",
            "|TRUPPJG12903C98EE6| 3.8215747|\n",
            "|TRSGUQI128F92D452E| 3.5906286|\n",
            "|TRPQGHT128E078D10A| 3.5073428|\n",
            "|TRGASNY128F14696B0| 3.4717524|\n",
            "|TRFRXRO12903D03A74|  3.293797|\n",
            "+------------------+----------+\n",
            "only showing top 5 rows\n",
            "\n",
            "Generating recommendation for user 1239 (dd40c92f28bc031a5a3e63dbffdb511933d99efc)\n"
          ]
        },
        {
          "name": "stderr",
          "output_type": "stream",
          "text": [
            "                                                                                \r"
          ]
        },
        {
          "name": "stdout",
          "output_type": "stream",
          "text": [
            "listened_track count: 38\n"
          ]
        },
        {
          "name": "stderr",
          "output_type": "stream",
          "text": [
            "[Stage 493:============================>                            (4 + 4) / 8]\r"
          ]
        },
        {
          "name": "stdout",
          "output_type": "stream",
          "text": [
            "+------------------+----------+\n",
            "|          track_id|prediction|\n",
            "+------------------+----------+\n",
            "|TRUPPJG12903C98EE6| 3.4604883|\n",
            "|TRSGUQI128F92D452E|  3.257988|\n",
            "|TRGASNY128F14696B0| 3.1858516|\n",
            "|TRFRXRO12903D03A74| 3.0250497|\n",
            "|TRKGBAV128F1491622|  2.911509|\n",
            "+------------------+----------+\n",
            "only showing top 5 rows\n",
            "\n"
          ]
        },
        {
          "name": "stderr",
          "output_type": "stream",
          "text": [
            "                                                                                \r"
          ]
        }
      ],
      "source": [
        "# recommend 20 songs to each user\n",
        "# 2m 50s for each user\n",
        "\n",
        "for user in users:\n",
        "    df = r.recommend(user.user_id, user.new_userid, limit=20)\n",
        "    df.show(5)\n",
        "    "
      ]
    },
    {
      "cell_type": "code",
      "execution_count": null,
      "metadata": {},
      "outputs": [],
      "source": []
    }
  ],
  "metadata": {
    "colab": {
      "provenance": []
    },
    "kernelspec": {
      "display_name": "Python 3 (ipykernel)",
      "language": "python",
      "name": "python3"
    },
    "language_info": {
      "codemirror_mode": {
        "name": "ipython",
        "version": 3
      },
      "file_extension": ".py",
      "mimetype": "text/x-python",
      "name": "python",
      "nbconvert_exporter": "python",
      "pygments_lexer": "ipython3",
      "version": "3.9.6"
    },
    "vscode": {
      "interpreter": {
        "hash": "31f2aee4e71d21fbe5cf8b01ff0e069b9275f58929596ceb00d14d90e3e16cd6"
      }
    }
  },
  "nbformat": 4,
  "nbformat_minor": 0
}
