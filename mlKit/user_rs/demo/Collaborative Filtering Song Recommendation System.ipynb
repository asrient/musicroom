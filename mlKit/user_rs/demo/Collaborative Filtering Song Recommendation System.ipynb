{
 "cells": [
  {
   "attachments": {},
   "cell_type": "markdown",
   "metadata": {},
   "source": [
    "# Collaborative Filtering Song Recommendation System  \n",
    "\n",
    "In this notebook, we employed two algorithms (popularity benchmark and ALS) to generated two different playlists: \n",
    "- Hot Song playlist - based on song popularity\n",
    "- Personalized playlist - based on Alternative Least Square algorithm \n",
    "\n",
    "_______________________________________________________________________\n",
    "\n",
    "\n",
    "# Objective\n",
    "\n",
    "- To build a usable and comprehensive song recommendation system for music-streaming industry.\n",
    "- To compare and combine poplarity based, collaborative filtering based and content-based methodology to target different users \n",
    "- To create a system that predicts the likelihood of a certain user will like a song or not.\n",
    "- To create or improve different retention and engagement strategies on targeted users. \n",
    "\n",
    "_________________________________________________________________________\n",
    "\n",
    "# Hypotheses\n",
    "\n",
    "### `Naive Recommendation System`: \n",
    "\n",
    "   - Popularity is the benchmark for recommending songs because it is better than random guesses.\n",
    "\n",
    "\n",
    "\n",
    "### `Collaborative Filtering Recommendation System`: \n",
    "\n",
    "   - If user A liked the same song as user B, A would also like to have similar taste as B for other B’s favorites.\n",
    "______________________________________________________________________________\n",
    "\n",
    "# Pipeline\n",
    "\n",
    "## `Load Data`\n",
    "\n",
    "- Data orginially were aggregated, cleaned and stored on S3 storage on Google Cloud. \n",
    "- Set up Spark environment.\n",
    "- Convert Pandas DataFrame to Spark DataFrame.\n",
    "\n",
    "## `Preprocess Data`\n",
    "\n",
    "- Convert unique IDs to interger\n",
    "- Merge unique user IDs and track IDs \n",
    "- Cache in memory to save space\n",
    "\n",
    "In total, there are 1 million unique users and 385,000 unique tracks.\n",
    "\n",
    "## `Exploratory Data Analysis`\n",
    "\n",
    "- How many tracks are played more than once? \n",
    "- How many tracks are played from 1 to 5 times ?\n",
    "\n",
    "## `Algorithm Development`\n",
    "\n",
    "\n",
    "###  1. Popularity Benchmark\n",
    "\n",
    "- The data were filtered by **total frequency based on listening history**, then top 10 heated tracks were selected. This would be the baseline saver for cold-start problem.\n",
    "\n",
    "\n",
    "### 2. Collaborative Filtering Algorithm\n",
    "\n",
    "<img src=\"img/CFAlgorithm.png\">\n",
    "\n",
    "- The main assumption for collaborative filtering here is that the **users (listeners in our case) who have agreed in the past are very likely to agree in the future**.\n",
    "\n",
    "\n",
    "- In terms of the ratings, traditional way was implemented by utilizing the **listening frequency as the rating**. The assumption when lacking explicit rating is that a higher listening frequency equates to a higher rating.\n",
    "\n",
    "\n",
    "- For **ALS**, **a matrix with frequency of each song played by each user** was constructed. The high-level idea is to approximate the matrix by factorizing it as the product of two matrices: the user matrix that represents each user, while the item matrix describes properties of each track.\n",
    "\n",
    "<img src=\"img/ALSmatrix.png\">\n",
    "\n",
    "\n",
    "- **Grid-search** with **cross-validation** were implemented during Spark ML pipeline for hyperparameters tunning:\n",
    "       \n",
    "       - maxIter (the max number of iterations)\n",
    "   \n",
    "       - rank (the number of latent factors, which basically determined the shape of matrix)\n",
    "   \n",
    "       - regParam (the regularization parameter).\n",
    "   \n",
    "\n",
    "## `Evaluation with RMSE`\n",
    "\n",
    "- For a reasonable result, two matrices were created so that the error for the known user-song pairs is minimized. The error here refers to the **rooted mean squared error (RMSE)**. \n",
    "\n",
    "\n",
    "- In a more detailed technical level, ALS would first fill the user matrix with a random value, and then optimize the song matrix value by minimizing the error. After that, it “alters”, which means it would hold the song matrix and optimize the value of the user’s matrix. This step minimizes two loss functions alternatively and should achieve some optima.\n",
    "\n",
    "\n",
    "### Evaluation on ALS algorithm (Collaborative Filtering)\n",
    "\n",
    "Many songs have only been listened once. Although the second model has a higher RMSE on test, it behaves relatively better when compared to average frequency. Since those tracks were listened more, we inferred those songs can better represent users’ tastes. The circled items might be of highest recommendation quality.\n",
    "\n",
    "\n",
    "<img src=\"img/ALSresult.png\">\n",
    "\n",
    "________________________________________________________________\n",
    "\n"
   ]
  },
  {
   "cell_type": "markdown",
   "metadata": {},
   "source": [
    "# Load Data"
   ]
  },
  {
   "cell_type": "code",
   "execution_count": 1,
   "metadata": {},
   "outputs": [],
   "source": [
    "from google.cloud import storage\n",
    "import os\n",
    "from io import BytesIO\n",
    "import pandas as pd\n",
    "\n",
    "#Connect to GCP bucket and assign the bucket_name and specify the file name\n",
    "# bucket_name = \"lj-bucket1\" #Assign the bucket name where your file is stored\n",
    "# storage_client = storage.Client()\n",
    "# bucket = storage_client.get_bucket(bucket_name)"
   ]
  },
  {
   "cell_type": "code",
   "execution_count": 12,
   "metadata": {},
   "outputs": [],
   "source": [
    "# spark configuration\n",
    "# I might be wrong, but even running 3G file on spark is very memory consuming\n",
    "\n",
    "from pyspark import SparkConf\n",
    "from pyspark.sql import SQLContext, SparkSession\n",
    "from pyspark.sql.types import *\n",
    "\n",
    "\n",
    "conf = SparkConf().setAppName(\"App\")\n",
    "conf = (conf.set('spark.executor.memory', '30G')\n",
    "            .set('spark.driver.memory', '30G')\n",
    "            .set('spark.driver.maxResultSize', '30G'))\n",
    "\n",
    "spark = SparkSession.builder\\\n",
    "                    .config(conf=conf)\\\n",
    "                    .appName('LJ')\\\n",
    "                    .getOrCreate()"
   ]
  },
  {
   "cell_type": "code",
   "execution_count": 13,
   "metadata": {},
   "outputs": [],
   "source": [
    "# blob = storage.blob.Blob(\"tracks_metadata.csv\", bucket)\n",
    "# blob"
   ]
  },
  {
   "cell_type": "code",
   "execution_count": 14,
   "metadata": {},
   "outputs": [],
   "source": [
    "#content = blob.download_as_string()\n",
    "df = pd.read_csv('../data/tmp/tracks_metadata.csv')"
   ]
  },
  {
   "cell_type": "code",
   "execution_count": 15,
   "metadata": {},
   "outputs": [
    {
     "name": "stderr",
     "output_type": "stream",
     "text": [
      "/Users/aritra/Library/Python/3.9/lib/python/site-packages/pyspark/sql/pandas/conversion.py:486: FutureWarning: iteritems is deprecated and will be removed in a future version. Use .items instead.\n",
      "  for column, series in pdf.iteritems():\n"
     ]
    }
   ],
   "source": [
    "# Convert Pandas Dataframe to Spark Dataframe with schema    \n",
    "\n",
    "metadata_schema = StructType(\n",
    "   [StructField('track_id', StringType(), True),\n",
    "   StructField('title', StringType(), True),\n",
    "   StructField('song_id', StringType(), True),\n",
    "   StructField('release', StringType(), True),\n",
    "   StructField('artist_id', StringType(), True),\n",
    "   StructField('artist_mbid', StringType(), True),\n",
    "   StructField('artist_name', StringType(), True),\n",
    "   StructField('duration', DoubleType(), True),\n",
    "   StructField('artist_familiarity', DoubleType(), True),\n",
    "   StructField('artist_hotttness', DoubleType(), True),\n",
    "   StructField('year', IntegerType(), True)]\n",
    ")\n",
    "\n",
    "\n",
    "metadata_df = spark.createDataFrame(df, schema=metadata_schema) "
   ]
  },
  {
   "cell_type": "code",
   "execution_count": 16,
   "metadata": {},
   "outputs": [],
   "source": [
    "# read csv directly from google cloud - RECOMMENDED\n",
    "# pip install gcsfs\n",
    "# should be <5 mins\n",
    "\n",
    "df = pd.read_csv('../data/tmp/listening_history.csv')"
   ]
  },
  {
   "cell_type": "code",
   "execution_count": 17,
   "metadata": {},
   "outputs": [
    {
     "name": "stderr",
     "output_type": "stream",
     "text": [
      "/Users/aritra/Library/Python/3.9/lib/python/site-packages/pyspark/sql/pandas/conversion.py:486: FutureWarning: iteritems is deprecated and will be removed in a future version. Use .items instead.\n",
      "  for column, series in pdf.iteritems():\n"
     ]
    }
   ],
   "source": [
    "# It seems this step requires huge Memory; \n",
    "# be sure to upgrade your system to at least 15GB RAM (>30GB RAM suggested)\n",
    "# might take over 10 mins\n",
    "\n",
    "history_schema = StructType(\n",
    "  [StructField('user_id', StringType()),\n",
    "   StructField('track_id', StringType()),\n",
    "   StructField('frequency', IntegerType())]\n",
    ")\n",
    "\n",
    "history_df = spark.createDataFrame(df, schema=history_schema)"
   ]
  },
  {
   "cell_type": "code",
   "execution_count": 18,
   "metadata": {},
   "outputs": [
    {
     "name": "stdout",
     "output_type": "stream",
     "text": [
      "23/03/30 22:23:20 WARN TaskSetManager: Stage 8 contains a task of very large size (123992 KiB). The maximum recommended task size is 1000 KiB.\n"
     ]
    },
    {
     "name": "stderr",
     "output_type": "stream",
     "text": [
      "[Stage 8:>                                                          (0 + 1) / 1]\r"
     ]
    },
    {
     "name": "stdout",
     "output_type": "stream",
     "text": [
      "23/03/30 22:23:24 WARN PythonRunner: Detected deadlock while completing task 0.0 in stage 8 (TID 27): Attempting to kill Python Worker\n",
      "+--------------------+------------------+---------+\n",
      "|             user_id|          track_id|frequency|\n",
      "+--------------------+------------------+---------+\n",
      "|b80344d063b5ccb32...|TRIQAUQ128F42435AD|        1|\n",
      "|7c86176941718984f...|TRIQAUQ128F42435AD|        1|\n",
      "|76235885b32c4e8c8...|TRIQAUQ128F42435AD|        3|\n",
      "|250c0fa2a77bc6695...|TRIQAUQ128F42435AD|        1|\n",
      "|3f73f44560e822344...|TRIQAUQ128F42435AD|        6|\n",
      "+--------------------+------------------+---------+\n",
      "only showing top 5 rows\n",
      "\n"
     ]
    },
    {
     "name": "stderr",
     "output_type": "stream",
     "text": [
      "                                                                                \r"
     ]
    }
   ],
   "source": [
    "# take a quick look\n",
    "history_df.show(5)"
   ]
  },
  {
   "cell_type": "markdown",
   "metadata": {},
   "source": [
    "# Preprocess Data"
   ]
  },
  {
   "cell_type": "code",
   "execution_count": 19,
   "metadata": {},
   "outputs": [],
   "source": [
    "from pyspark.sql import functions as F\n",
    "\n",
    "# change ids to int\n",
    "user_id = history_df.select('user_id')\\\n",
    "                    .distinct()\\\n",
    "                    .select('user_id', F.monotonically_increasing_id()\\\n",
    "                    .alias('new_userid'))\n",
    "\n",
    "\n",
    "track_id = history_df.select('track_id')\\\n",
    "                     .distinct()\\\n",
    "                     .select('track_id', F.monotonically_increasing_id()\\\n",
    "                     .alias('new_trackid'))"
   ]
  },
  {
   "cell_type": "code",
   "execution_count": 20,
   "metadata": {},
   "outputs": [
    {
     "name": "stdout",
     "output_type": "stream",
     "text": [
      "23/03/30 22:23:25 WARN TaskSetManager: Stage 9 contains a task of very large size (123992 KiB). The maximum recommended task size is 1000 KiB.\n"
     ]
    },
    {
     "name": "stderr",
     "output_type": "stream",
     "text": [
      "[Stage 15:>                                                         (0 + 0) / 8]\r"
     ]
    },
    {
     "name": "stdout",
     "output_type": "stream",
     "text": [
      "23/03/30 22:24:10 WARN TaskSetManager: Stage 15 contains a task of very large size (123992 KiB). The maximum recommended task size is 1000 KiB.\n"
     ]
    },
    {
     "name": "stderr",
     "output_type": "stream",
     "text": [
      "[Stage 15:>                                                         (0 + 8) / 8]\r"
     ]
    },
    {
     "name": "stdout",
     "output_type": "stream",
     "text": [
      "Number of unique users: 439429\n",
      "Number of unique songs: 351246\n"
     ]
    },
    {
     "name": "stderr",
     "output_type": "stream",
     "text": [
      "                                                                                \r"
     ]
    }
   ],
   "source": [
    "# get total unique users and songs\n",
    "unique_users = user_id.count()\n",
    "unique_tracks = track_id.count()\n",
    "print('Number of unique users: {0}'.format(unique_users))\n",
    "print('Number of unique songs: {0}'.format(unique_tracks))"
   ]
  },
  {
   "cell_type": "markdown",
   "metadata": {},
   "source": [
    "### There are more than 1 Million Unique Users and More than 385K unique tracks."
   ]
  },
  {
   "cell_type": "code",
   "execution_count": 21,
   "metadata": {},
   "outputs": [],
   "source": [
    "# join all data\n",
    "total_df = history_df.join(user_id, 'user_id')\\\n",
    "                     .join(track_id, 'track_id')"
   ]
  },
  {
   "cell_type": "code",
   "execution_count": 22,
   "metadata": {},
   "outputs": [
    {
     "name": "stdout",
     "output_type": "stream",
     "text": [
      "23/03/30 22:25:03 WARN TaskSetManager: Stage 21 contains a task of very large size (123992 KiB). The maximum recommended task size is 1000 KiB.\n"
     ]
    },
    {
     "name": "stderr",
     "output_type": "stream",
     "text": [
      "[Stage 21:>   (0 + 8) / 8][Stage 22:>   (0 + 0) / 8][Stage 23:>   (0 + 0) / 8]8]\r"
     ]
    },
    {
     "name": "stdout",
     "output_type": "stream",
     "text": [
      "23/03/30 22:25:55 WARN TaskSetManager: Stage 22 contains a task of very large size (123992 KiB). The maximum recommended task size is 1000 KiB.\n"
     ]
    },
    {
     "name": "stderr",
     "output_type": "stream",
     "text": [
      "[Stage 21:===>(7 + 1) / 8][Stage 22:>   (0 + 8) / 8][Stage 23:>   (0 + 0) / 8]\r"
     ]
    },
    {
     "name": "stdout",
     "output_type": "stream",
     "text": [
      "23/03/30 22:26:35 WARN TaskSetManager: Stage 23 contains a task of very large size (123992 KiB). The maximum recommended task size is 1000 KiB.\n"
     ]
    },
    {
     "name": "stderr",
     "output_type": "stream",
     "text": [
      "ERROR:root:KeyboardInterrupt while sending command.=========>       (7 + 1) / 8]\n",
      "Traceback (most recent call last):\n",
      "  File \"/Users/aritra/Library/Python/3.9/lib/python/site-packages/py4j/java_gateway.py\", line 1038, in send_command\n",
      "    response = connection.send_command(command)\n",
      "  File \"/Users/aritra/Library/Python/3.9/lib/python/site-packages/py4j/clientserver.py\", line 511, in send_command\n",
      "    answer = smart_decode(self.stream.readline()[:-1])\n",
      "  File \"/Applications/Xcode.app/Contents/Developer/Library/Frameworks/Python3.framework/Versions/3.9/lib/python3.9/socket.py\", line 704, in readinto\n",
      "    return self._sock.recv_into(b)\n",
      "KeyboardInterrupt\n"
     ]
    },
    {
     "ename": "KeyboardInterrupt",
     "evalue": "",
     "output_type": "error",
     "traceback": [
      "\u001b[0;31m---------------------------------------------------------------------------\u001b[0m",
      "\u001b[0;31mKeyboardInterrupt\u001b[0m                         Traceback (most recent call last)",
      "Cell \u001b[0;32mIn[22], line 1\u001b[0m\n\u001b[0;32m----> 1\u001b[0m total_df\u001b[39m.\u001b[39;49mcount()\n",
      "File \u001b[0;32m~/Library/Python/3.9/lib/python/site-packages/pyspark/sql/dataframe.py:804\u001b[0m, in \u001b[0;36mDataFrame.count\u001b[0;34m(self)\u001b[0m\n\u001b[1;32m    794\u001b[0m \u001b[39mdef\u001b[39;00m \u001b[39mcount\u001b[39m(\u001b[39mself\u001b[39m) \u001b[39m-\u001b[39m\u001b[39m>\u001b[39m \u001b[39mint\u001b[39m:\n\u001b[1;32m    795\u001b[0m \u001b[39m    \u001b[39m\u001b[39m\"\"\"Returns the number of rows in this :class:`DataFrame`.\u001b[39;00m\n\u001b[1;32m    796\u001b[0m \n\u001b[1;32m    797\u001b[0m \u001b[39m    .. versionadded:: 1.3.0\u001b[39;00m\n\u001b[0;32m   (...)\u001b[0m\n\u001b[1;32m    802\u001b[0m \u001b[39m    2\u001b[39;00m\n\u001b[1;32m    803\u001b[0m \u001b[39m    \"\"\"\u001b[39;00m\n\u001b[0;32m--> 804\u001b[0m     \u001b[39mreturn\u001b[39;00m \u001b[39mint\u001b[39m(\u001b[39mself\u001b[39;49m\u001b[39m.\u001b[39;49m_jdf\u001b[39m.\u001b[39;49mcount())\n",
      "File \u001b[0;32m~/Library/Python/3.9/lib/python/site-packages/py4j/java_gateway.py:1320\u001b[0m, in \u001b[0;36mJavaMember.__call__\u001b[0;34m(self, *args)\u001b[0m\n\u001b[1;32m   1313\u001b[0m args_command, temp_args \u001b[39m=\u001b[39m \u001b[39mself\u001b[39m\u001b[39m.\u001b[39m_build_args(\u001b[39m*\u001b[39margs)\n\u001b[1;32m   1315\u001b[0m command \u001b[39m=\u001b[39m proto\u001b[39m.\u001b[39mCALL_COMMAND_NAME \u001b[39m+\u001b[39m\\\n\u001b[1;32m   1316\u001b[0m     \u001b[39mself\u001b[39m\u001b[39m.\u001b[39mcommand_header \u001b[39m+\u001b[39m\\\n\u001b[1;32m   1317\u001b[0m     args_command \u001b[39m+\u001b[39m\\\n\u001b[1;32m   1318\u001b[0m     proto\u001b[39m.\u001b[39mEND_COMMAND_PART\n\u001b[0;32m-> 1320\u001b[0m answer \u001b[39m=\u001b[39m \u001b[39mself\u001b[39;49m\u001b[39m.\u001b[39;49mgateway_client\u001b[39m.\u001b[39;49msend_command(command)\n\u001b[1;32m   1321\u001b[0m return_value \u001b[39m=\u001b[39m get_return_value(\n\u001b[1;32m   1322\u001b[0m     answer, \u001b[39mself\u001b[39m\u001b[39m.\u001b[39mgateway_client, \u001b[39mself\u001b[39m\u001b[39m.\u001b[39mtarget_id, \u001b[39mself\u001b[39m\u001b[39m.\u001b[39mname)\n\u001b[1;32m   1324\u001b[0m \u001b[39mfor\u001b[39;00m temp_arg \u001b[39min\u001b[39;00m temp_args:\n",
      "File \u001b[0;32m~/Library/Python/3.9/lib/python/site-packages/py4j/java_gateway.py:1038\u001b[0m, in \u001b[0;36mGatewayClient.send_command\u001b[0;34m(self, command, retry, binary)\u001b[0m\n\u001b[1;32m   1036\u001b[0m connection \u001b[39m=\u001b[39m \u001b[39mself\u001b[39m\u001b[39m.\u001b[39m_get_connection()\n\u001b[1;32m   1037\u001b[0m \u001b[39mtry\u001b[39;00m:\n\u001b[0;32m-> 1038\u001b[0m     response \u001b[39m=\u001b[39m connection\u001b[39m.\u001b[39;49msend_command(command)\n\u001b[1;32m   1039\u001b[0m     \u001b[39mif\u001b[39;00m binary:\n\u001b[1;32m   1040\u001b[0m         \u001b[39mreturn\u001b[39;00m response, \u001b[39mself\u001b[39m\u001b[39m.\u001b[39m_create_connection_guard(connection)\n",
      "File \u001b[0;32m~/Library/Python/3.9/lib/python/site-packages/py4j/clientserver.py:511\u001b[0m, in \u001b[0;36mClientServerConnection.send_command\u001b[0;34m(self, command)\u001b[0m\n\u001b[1;32m    509\u001b[0m \u001b[39mtry\u001b[39;00m:\n\u001b[1;32m    510\u001b[0m     \u001b[39mwhile\u001b[39;00m \u001b[39mTrue\u001b[39;00m:\n\u001b[0;32m--> 511\u001b[0m         answer \u001b[39m=\u001b[39m smart_decode(\u001b[39mself\u001b[39;49m\u001b[39m.\u001b[39;49mstream\u001b[39m.\u001b[39;49mreadline()[:\u001b[39m-\u001b[39m\u001b[39m1\u001b[39m])\n\u001b[1;32m    512\u001b[0m         logger\u001b[39m.\u001b[39mdebug(\u001b[39m\"\u001b[39m\u001b[39mAnswer received: \u001b[39m\u001b[39m{0}\u001b[39;00m\u001b[39m\"\u001b[39m\u001b[39m.\u001b[39mformat(answer))\n\u001b[1;32m    513\u001b[0m         \u001b[39m# Happens when a the other end is dead. There might be an empty\u001b[39;00m\n\u001b[1;32m    514\u001b[0m         \u001b[39m# answer before the socket raises an error.\u001b[39;00m\n",
      "File \u001b[0;32m/Applications/Xcode.app/Contents/Developer/Library/Frameworks/Python3.framework/Versions/3.9/lib/python3.9/socket.py:704\u001b[0m, in \u001b[0;36mSocketIO.readinto\u001b[0;34m(self, b)\u001b[0m\n\u001b[1;32m    702\u001b[0m \u001b[39mwhile\u001b[39;00m \u001b[39mTrue\u001b[39;00m:\n\u001b[1;32m    703\u001b[0m     \u001b[39mtry\u001b[39;00m:\n\u001b[0;32m--> 704\u001b[0m         \u001b[39mreturn\u001b[39;00m \u001b[39mself\u001b[39;49m\u001b[39m.\u001b[39;49m_sock\u001b[39m.\u001b[39;49mrecv_into(b)\n\u001b[1;32m    705\u001b[0m     \u001b[39mexcept\u001b[39;00m timeout:\n\u001b[1;32m    706\u001b[0m         \u001b[39mself\u001b[39m\u001b[39m.\u001b[39m_timeout_occurred \u001b[39m=\u001b[39m \u001b[39mTrue\u001b[39;00m\n",
      "\u001b[0;31mKeyboardInterrupt\u001b[0m: "
     ]
    }
   ],
   "source": [
    "#total_df.count()"
   ]
  },
  {
   "cell_type": "markdown",
   "metadata": {},
   "source": [
    "### Let's make life easier. As we are running the same algorithms anyway, and the memory on cloud is really expensive so we can cache in memory."
   ]
  },
  {
   "cell_type": "code",
   "execution_count": 23,
   "metadata": {},
   "outputs": [
    {
     "data": {
      "text/plain": [
       "DataFrame[track_id: string, user_id: string, frequency: int, new_userid: bigint, new_trackid: bigint]"
      ]
     },
     "execution_count": 23,
     "metadata": {},
     "output_type": "execute_result"
    }
   ],
   "source": [
    "# cache in memory \n",
    "# because we will revisit them from time to time\n",
    "\n",
    "metadata_df.cache()\n",
    "total_df.cache()"
   ]
  },
  {
   "cell_type": "code",
   "execution_count": null,
   "metadata": {},
   "outputs": [
    {
     "name": "stdout",
     "output_type": "stream",
     "text": [
      "zsh:1: command not found: free\n"
     ]
    }
   ],
   "source": [
    "# check memory usage\n",
    "! free -m"
   ]
  },
  {
   "cell_type": "markdown",
   "metadata": {},
   "source": [
    "# Exploratory Data Analysis"
   ]
  },
  {
   "cell_type": "code",
   "execution_count": 24,
   "metadata": {},
   "outputs": [
    {
     "name": "stderr",
     "output_type": "stream",
     "text": [
      "[Stage 21:===>(7 + 1) / 8][Stage 24:>   (0 + 0) / 8][Stage 26:>   (0 + 0) / 8]\r"
     ]
    },
    {
     "name": "stdout",
     "output_type": "stream",
     "text": [
      "23/03/30 22:33:08 WARN TaskSetManager: Stage 26 contains a task of very large size (123992 KiB). The maximum recommended task size is 1000 KiB.\n"
     ]
    },
    {
     "name": "stderr",
     "output_type": "stream",
     "text": [
      "[Stage 21:===>(7 + 1) / 8][Stage 24:>   (0 + 0) / 8][Stage 25:>   (0 + 0) / 8]\r"
     ]
    },
    {
     "name": "stdout",
     "output_type": "stream",
     "text": [
      "23/03/30 22:33:46 WARN TaskSetManager: Stage 24 contains a task of very large size (123992 KiB). The maximum recommended task size is 1000 KiB.\n"
     ]
    },
    {
     "name": "stderr",
     "output_type": "stream",
     "text": [
      "[Stage 21:===>(7 + 1) / 8][Stage 24:>   (1 + 7) / 8][Stage 25:>   (0 + 0) / 8]\r"
     ]
    },
    {
     "name": "stdout",
     "output_type": "stream",
     "text": [
      "23/03/30 22:34:25 WARN TaskSetManager: Stage 25 contains a task of very large size (123992 KiB). The maximum recommended task size is 1000 KiB.\n"
     ]
    },
    {
     "name": "stderr",
     "output_type": "stream",
     "text": [
      "                                                                                \r"
     ]
    }
   ],
   "source": [
    "# count entries and listens\n",
    "entries = total_df.count()"
   ]
  },
  {
   "cell_type": "code",
   "execution_count": 25,
   "metadata": {},
   "outputs": [
    {
     "name": "stderr",
     "output_type": "stream",
     "text": [
      "                                                                                \r"
     ]
    }
   ],
   "source": [
    "listens = []\n",
    "for i in range(10):\n",
    "    listens.append(float(total_df.filter(total_df.frequency == i+1).count())/entries*100)"
   ]
  },
  {
   "cell_type": "code",
   "execution_count": 26,
   "metadata": {},
   "outputs": [
    {
     "name": "stderr",
     "output_type": "stream",
     "text": [
      "[Stage 21:==================================================>       (7 + 1) / 8]\r"
     ]
    },
    {
     "data": {
      "text/html": [
       "<div>\n",
       "<style scoped>\n",
       "    .dataframe tbody tr th:only-of-type {\n",
       "        vertical-align: middle;\n",
       "    }\n",
       "\n",
       "    .dataframe tbody tr th {\n",
       "        vertical-align: top;\n",
       "    }\n",
       "\n",
       "    .dataframe thead th {\n",
       "        text-align: right;\n",
       "    }\n",
       "</style>\n",
       "<table border=\"1\" class=\"dataframe\">\n",
       "  <thead>\n",
       "    <tr style=\"text-align: right;\">\n",
       "      <th></th>\n",
       "      <th>number</th>\n",
       "      <th>listen</th>\n",
       "    </tr>\n",
       "  </thead>\n",
       "  <tbody>\n",
       "    <tr>\n",
       "      <th>0</th>\n",
       "      <td>1</td>\n",
       "      <td>59.371755</td>\n",
       "    </tr>\n",
       "    <tr>\n",
       "      <th>1</th>\n",
       "      <td>2</td>\n",
       "      <td>15.214531</td>\n",
       "    </tr>\n",
       "    <tr>\n",
       "      <th>2</th>\n",
       "      <td>3</td>\n",
       "      <td>6.676318</td>\n",
       "    </tr>\n",
       "    <tr>\n",
       "      <th>3</th>\n",
       "      <td>4</td>\n",
       "      <td>3.759300</td>\n",
       "    </tr>\n",
       "    <tr>\n",
       "      <th>4</th>\n",
       "      <td>5</td>\n",
       "      <td>4.626892</td>\n",
       "    </tr>\n",
       "    <tr>\n",
       "      <th>5</th>\n",
       "      <td>6</td>\n",
       "      <td>2.075115</td>\n",
       "    </tr>\n",
       "    <tr>\n",
       "      <th>6</th>\n",
       "      <td>7</td>\n",
       "      <td>1.396437</td>\n",
       "    </tr>\n",
       "    <tr>\n",
       "      <th>7</th>\n",
       "      <td>8</td>\n",
       "      <td>1.011821</td>\n",
       "    </tr>\n",
       "    <tr>\n",
       "      <th>8</th>\n",
       "      <td>9</td>\n",
       "      <td>0.755479</td>\n",
       "    </tr>\n",
       "    <tr>\n",
       "      <th>9</th>\n",
       "      <td>10</td>\n",
       "      <td>0.893361</td>\n",
       "    </tr>\n",
       "  </tbody>\n",
       "</table>\n",
       "</div>"
      ],
      "text/plain": [
       "   number     listen\n",
       "0       1  59.371755\n",
       "1       2  15.214531\n",
       "2       3   6.676318\n",
       "3       4   3.759300\n",
       "4       5   4.626892\n",
       "5       6   2.075115\n",
       "6       7   1.396437\n",
       "7       8   1.011821\n",
       "8       9   0.755479\n",
       "9      10   0.893361"
      ]
     },
     "execution_count": 26,
     "metadata": {},
     "output_type": "execute_result"
    }
   ],
   "source": [
    "numbers = [i for i in range(1, 11)]\n",
    "\n",
    "d = {'number': numbers, 'listen': listens}\n",
    "df = pd.DataFrame(data=d)\n",
    "df"
   ]
  },
  {
   "cell_type": "markdown",
   "metadata": {},
   "source": [
    "### Around 59.6% of the tracks are played at least once. "
   ]
  },
  {
   "cell_type": "code",
   "execution_count": 27,
   "metadata": {},
   "outputs": [
    {
     "data": {
      "text/plain": [
       "Text(0.5, 1.0, 'Percentage of the Track Play Frequency')"
      ]
     },
     "execution_count": 27,
     "metadata": {},
     "output_type": "execute_result"
    },
    {
     "data": {
      "image/png": "[encoded data removed]",
      "text/plain": [
       "<Figure size 1100x700 with 1 Axes>"
      ]
     },
     "metadata": {},
     "output_type": "display_data"
    }
   ],
   "source": [
    "import seaborn as sns\n",
    "from matplotlib import pyplot as plt\n",
    "%matplotlib inline\n",
    "\n",
    "plt.figure(figsize=(11, 7))\n",
    "sns.barplot(x='number', y='listen', data=df, palette=\"Blues_d\")\n",
    "plt.title(\"Percentage of the Track Play Frequency\")"
   ]
  },
  {
   "cell_type": "code",
   "execution_count": 28,
   "metadata": {},
   "outputs": [
    {
     "data": {
      "text/html": [
       "<div>\n",
       "<style scoped>\n",
       "    .dataframe tbody tr th:only-of-type {\n",
       "        vertical-align: middle;\n",
       "    }\n",
       "\n",
       "    .dataframe tbody tr th {\n",
       "        vertical-align: top;\n",
       "    }\n",
       "\n",
       "    .dataframe thead th {\n",
       "        text-align: right;\n",
       "    }\n",
       "</style>\n",
       "<table border=\"1\" class=\"dataframe\">\n",
       "  <thead>\n",
       "    <tr style=\"text-align: right;\">\n",
       "      <th></th>\n",
       "      <th>number</th>\n",
       "      <th>cummulative_listen</th>\n",
       "    </tr>\n",
       "  </thead>\n",
       "  <tbody>\n",
       "    <tr>\n",
       "      <th>0</th>\n",
       "      <td>1</td>\n",
       "      <td>59.371755</td>\n",
       "    </tr>\n",
       "    <tr>\n",
       "      <th>1</th>\n",
       "      <td>2</td>\n",
       "      <td>74.586286</td>\n",
       "    </tr>\n",
       "    <tr>\n",
       "      <th>2</th>\n",
       "      <td>3</td>\n",
       "      <td>81.262604</td>\n",
       "    </tr>\n",
       "    <tr>\n",
       "      <th>3</th>\n",
       "      <td>4</td>\n",
       "      <td>85.021903</td>\n",
       "    </tr>\n",
       "    <tr>\n",
       "      <th>4</th>\n",
       "      <td>5</td>\n",
       "      <td>89.648796</td>\n",
       "    </tr>\n",
       "    <tr>\n",
       "      <th>5</th>\n",
       "      <td>6</td>\n",
       "      <td>91.723910</td>\n",
       "    </tr>\n",
       "    <tr>\n",
       "      <th>6</th>\n",
       "      <td>7</td>\n",
       "      <td>93.120347</td>\n",
       "    </tr>\n",
       "    <tr>\n",
       "      <th>7</th>\n",
       "      <td>8</td>\n",
       "      <td>94.132169</td>\n",
       "    </tr>\n",
       "    <tr>\n",
       "      <th>8</th>\n",
       "      <td>9</td>\n",
       "      <td>94.887648</td>\n",
       "    </tr>\n",
       "    <tr>\n",
       "      <th>9</th>\n",
       "      <td>10</td>\n",
       "      <td>95.781009</td>\n",
       "    </tr>\n",
       "  </tbody>\n",
       "</table>\n",
       "</div>"
      ],
      "text/plain": [
       "   number  cummulative_listen\n",
       "0       1           59.371755\n",
       "1       2           74.586286\n",
       "2       3           81.262604\n",
       "3       4           85.021903\n",
       "4       5           89.648796\n",
       "5       6           91.723910\n",
       "6       7           93.120347\n",
       "7       8           94.132169\n",
       "8       9           94.887648\n",
       "9      10           95.781009"
      ]
     },
     "execution_count": 28,
     "metadata": {},
     "output_type": "execute_result"
    }
   ],
   "source": [
    "import numpy as np\n",
    "\n",
    "total_listens = np.cumsum(listens)\n",
    "d = {'number': numbers, 'cummulative_listen': total_listens}\n",
    "df = pd.DataFrame(data=d)\n",
    "df"
   ]
  },
  {
   "cell_type": "markdown",
   "metadata": {},
   "source": [
    "### Almost 90% of the songs are played between 1 to 5 times. (<= 5 times)"
   ]
  },
  {
   "cell_type": "code",
   "execution_count": 29,
   "metadata": {},
   "outputs": [
    {
     "name": "stderr",
     "output_type": "stream",
     "text": [
      "/var/folders/83/ksr3jszs0vx_pckx8q4h__y00000gq/T/ipykernel_76768/4058758120.py:2: UserWarning: Ignoring `palette` because no `hue` variable has been assigned.\n",
      "  sns.lineplot(x='number', y='cummulative_listen', data=df, palette=\"Blues_d\")\n"
     ]
    },
    {
     "data": {
      "text/plain": [
       "Text(0.5, 1.0, 'Percentage of the Track Play Frequency')"
      ]
     },
     "execution_count": 29,
     "metadata": {},
     "output_type": "execute_result"
    },
    {
     "data": {
      "image/png": "[encoded data removed]",
      "text/plain": [
       "<Figure size 1100x700 with 1 Axes>"
      ]
     },
     "metadata": {},
     "output_type": "display_data"
    }
   ],
   "source": [
    "plt.figure(figsize=(11, 7))\n",
    "sns.lineplot(x='number', y='cummulative_listen', data=df, palette=\"Blues_d\")\n",
    "plt.title(\"Percentage of the Track Play Frequency\")"
   ]
  },
  {
   "cell_type": "markdown",
   "metadata": {},
   "source": [
    "# Naive Recommendation - By popularity\n",
    "\n",
    "- Generate hot tracks playlist"
   ]
  },
  {
   "cell_type": "code",
   "execution_count": 30,
   "metadata": {},
   "outputs": [
    {
     "name": "stderr",
     "output_type": "stream",
     "text": [
      "[Stage 21:===============>  (7 + 1) / 8][Stage 149:============>(198 + 2) / 200]\r"
     ]
    },
    {
     "name": "stdout",
     "output_type": "stream",
     "text": [
      "+------------------+----------+---------------+\n",
      "|track_id          |user_count|total_frequency|\n",
      "+------------------+----------+---------------+\n",
      "|TRAEHHJ12903CF492F|36245     |321420         |\n",
      "|TRGXQES128F42BA5EB|39272     |277820         |\n",
      "|TRONYHY128F92C9D11|34846     |227649         |\n",
      "+------------------+----------+---------------+\n",
      "only showing top 3 rows\n",
      "\n"
     ]
    },
    {
     "name": "stderr",
     "output_type": "stream",
     "text": [
      "                                                                                \r"
     ]
    }
   ],
   "source": [
    "tracks_with_listens = total_df.groupBy('track_id')\\\n",
    "                              .agg(F.count(total_df.frequency).alias('user_count'),\n",
    "                                   F.sum(total_df.frequency).alias('total_frequency'))\\\n",
    "                              .orderBy('total_frequency', ascending = False)\n",
    "\n",
    "tracks_with_listens.show(3, truncate=False)"
   ]
  },
  {
   "cell_type": "code",
   "execution_count": 31,
   "metadata": {},
   "outputs": [
    {
     "name": "stderr",
     "output_type": "stream",
     "text": [
      "[Stage 21:==================================================>       (7 + 1) / 8]\r"
     ]
    },
    {
     "name": "stdout",
     "output_type": "stream",
     "text": [
      "23/03/30 22:39:42 WARN TaskSetManager: Stage 150 contains a task of very large size (8184 KiB). The maximum recommended task size is 1000 KiB.\n"
     ]
    },
    {
     "name": "stderr",
     "output_type": "stream",
     "text": [
      "[Stage 21:===============>  (7 + 1) / 8][Stage 156:===========> (182 + 7) / 200]\r"
     ]
    },
    {
     "name": "stdout",
     "output_type": "stream",
     "text": [
      "+----------------------------------------------------------------------+-------------------------------------------------------------------+----------+---------------+\n",
      "|artist_name                                                           |title                                                              |user_count|total_frequency|\n",
      "+----------------------------------------------------------------------+-------------------------------------------------------------------+----------+---------------+\n",
      "|Dwight Yoakam                                                         |You're The One                                                     |36245     |321420         |\n",
      "|Björk                                                                 |Undo                                                               |39272     |277820         |\n",
      "|Kings Of Leon                                                         |Revelry                                                            |34846     |227649         |\n",
      "|Harmonia                                                              |Sehr kosmisch                                                      |47559     |183255         |\n",
      "|Barry Tuckwell/Academy of St Martin-in-the-Fields/Sir Neville Marriner|Horn Concerto No. 4 in E flat K495: II. Romance (Andante cantabile)|29966     |168331         |\n",
      "|Florence + The Machine                                                |Dog Days Are Over (Radio Edit)                                     |39238     |155058         |\n",
      "|OneRepublic                                                           |Secrets                                                            |33541     |125917         |\n",
      "|Five Iron Frenzy                                                      |Canada                                                             |19694     |118127         |\n",
      "|Tub Ring                                                              |Invalid                                                            |16185     |117526         |\n",
      "|Sam Cooke                                                             |Ain't Misbehavin                                                   |15818     |104667         |\n",
      "+----------------------------------------------------------------------+-------------------------------------------------------------------+----------+---------------+\n",
      "only showing top 10 rows\n",
      "\n"
     ]
    },
    {
     "name": "stderr",
     "output_type": "stream",
     "text": [
      "                                                                                \r"
     ]
    }
   ],
   "source": [
    "# Join with metadata \n",
    "# Get detailed song information\n",
    "\n",
    "tracks_with_listens_names = tracks_with_listens.join(metadata_df, 'track_id' ) \\\n",
    "                                               .filter('user_count >= 200') \\\n",
    "                                               .select('artist_name', 'title', 'user_count','total_frequency') \\\n",
    "                                               .orderBy('total_frequency', ascending = False)\n",
    "\n",
    "# display 20 most popular songs\n",
    "tracks_with_listens_names.show(n=10, truncate = False)"
   ]
  },
  {
   "cell_type": "code",
   "execution_count": 32,
   "metadata": {},
   "outputs": [
    {
     "name": "stderr",
     "output_type": "stream",
     "text": [
      "[Stage 21:==================================================>       (7 + 1) / 8]\r"
     ]
    },
    {
     "name": "stdout",
     "output_type": "stream",
     "text": [
      "23/03/30 22:39:59 WARN TaskSetManager: Stage 157 contains a task of very large size (8184 KiB). The maximum recommended task size is 1000 KiB.\n"
     ]
    },
    {
     "name": "stderr",
     "output_type": "stream",
     "text": [
      "[Stage 21:===============>  (7 + 1) / 8][Stage 163:===========> (175 + 7) / 200]\r"
     ]
    },
    {
     "name": "stdout",
     "output_type": "stream",
     "text": [
      "+--------------------+--------------------+----------+---------------+\n",
      "|         artist_name|               title|user_count|total_frequency|\n",
      "+--------------------+--------------------+----------+---------------+\n",
      "|       Dwight Yoakam|      You're The One|     36245|         321420|\n",
      "|               Björk|                Undo|     39272|         277820|\n",
      "|       Kings Of Leon|             Revelry|     34846|         227649|\n",
      "|            Harmonia|       Sehr kosmisch|     47559|         183255|\n",
      "|Barry Tuckwell/Ac...|Horn Concerto No....|     29966|         168331|\n",
      "|Florence + The Ma...|Dog Days Are Over...|     39238|         155058|\n",
      "|         OneRepublic|             Secrets|     33541|         125917|\n",
      "|    Five Iron Frenzy|              Canada|     19694|         118127|\n",
      "|            Tub Ring|             Invalid|     16185|         117526|\n",
      "|           Sam Cooke|    Ain't Misbehavin|     15818|         104667|\n",
      "+--------------------+--------------------+----------+---------------+\n",
      "only showing top 10 rows\n",
      "\n"
     ]
    },
    {
     "name": "stderr",
     "output_type": "stream",
     "text": [
      "                                                                                \r"
     ]
    }
   ],
   "source": [
    "# try different display options\n",
    "tracks_with_listens_names.show(n=10)"
   ]
  },
  {
   "cell_type": "code",
   "execution_count": 33,
   "metadata": {},
   "outputs": [
    {
     "name": "stdout",
     "output_type": "stream",
     "text": [
      "23/03/30 22:40:12 WARN TaskSetManager: Stage 164 contains a task of very large size (8184 KiB). The maximum recommended task size is 1000 KiB.\n"
     ]
    },
    {
     "name": "stderr",
     "output_type": "stream",
     "text": [
      "                                                                                \r"
     ]
    },
    {
     "name": "stdout",
     "output_type": "stream",
     "text": [
      "+----------------------------------------------------------------------+-------------------------------------------------------------------+\n",
      "|artist_name                                                           |title                                                              |\n",
      "+----------------------------------------------------------------------+-------------------------------------------------------------------+\n",
      "|Dwight Yoakam                                                         |You're The One                                                     |\n",
      "|Björk                                                                 |Undo                                                               |\n",
      "|Kings Of Leon                                                         |Revelry                                                            |\n",
      "|Harmonia                                                              |Sehr kosmisch                                                      |\n",
      "|Barry Tuckwell/Academy of St Martin-in-the-Fields/Sir Neville Marriner|Horn Concerto No. 4 in E flat K495: II. Romance (Andante cantabile)|\n",
      "|Florence + The Machine                                                |Dog Days Are Over (Radio Edit)                                     |\n",
      "|OneRepublic                                                           |Secrets                                                            |\n",
      "|Five Iron Frenzy                                                      |Canada                                                             |\n",
      "|Tub Ring                                                              |Invalid                                                            |\n",
      "|Sam Cooke                                                             |Ain't Misbehavin                                                   |\n",
      "+----------------------------------------------------------------------+-------------------------------------------------------------------+\n",
      "only showing top 10 rows\n",
      "\n"
     ]
    }
   ],
   "source": [
    "tracks_with_listens_names.select(\"artist_name\", \"title\").show(n=10, truncate=False)"
   ]
  },
  {
   "cell_type": "markdown",
   "metadata": {},
   "source": [
    "# Collaborative Filtering"
   ]
  },
  {
   "cell_type": "markdown",
   "metadata": {},
   "source": [
    "Assumption: if person A and B share similar listening history, A might be also interested in B's other songs.\n",
    "\n",
    "For this history, as for each user, we have song plays frequency for only a subset of the songs, because not all users listened to all songs. \n",
    "\n",
    "The intuition is that collaborative filtering would be able to approximate the matrix; which decompomises the matrix as the product of \"user property\" cross \"song property\".\n",
    "\n",
    "Optimization with ALS algorithm:\n",
    "\n",
    "1. First randomly fill in the users matrix.\n",
    "2. Optimize the song values that the error is minimized (least squared error).\n",
    "3. Then, hold song's value fixed and optimize the user matrix (that's why it's called alternation)."
   ]
  },
  {
   "cell_type": "code",
   "execution_count": 34,
   "metadata": {},
   "outputs": [],
   "source": [
    "# train, validation, test  ---  0.6, 0.2, 0.2\n",
    "\n",
    "train_df, valid_df, test_df = total_df.randomSplit([0.6, 0.2, 0.2])"
   ]
  },
  {
   "cell_type": "code",
   "execution_count": 35,
   "metadata": {},
   "outputs": [],
   "source": [
    "# make sure all frequency in double type\n",
    "\n",
    "train_df = train_df.withColumn(\"frequency\", train_df[\"frequency\"].cast(DoubleType()))\n",
    "valid_df = valid_df.withColumn(\"frequency\", valid_df[\"frequency\"].cast(DoubleType()))\n",
    "test_df = test_df.withColumn(\"frequency\", test_df[\"frequency\"].cast(DoubleType()))"
   ]
  },
  {
   "cell_type": "code",
   "execution_count": 36,
   "metadata": {},
   "outputs": [],
   "source": [
    "# ALS has strict requirement for data type\n",
    "# bigint is very problematic\n",
    "# make bigint to int\n",
    "\n",
    "train_df = train_df.withColumn(\"new_userid\", train_df[\"new_userid\"].cast(IntegerType()))\n",
    "train_df = train_df.withColumn(\"new_trackid\", train_df[\"new_trackid\"].cast(IntegerType()))\n",
    "\n",
    "valid_df = valid_df.withColumn(\"new_userid\", valid_df[\"new_userid\"].cast(IntegerType()))\n",
    "valid_df = valid_df.withColumn(\"new_trackid\", valid_df[\"new_trackid\"].cast(IntegerType()))\n",
    "\n",
    "test_df = test_df.withColumn(\"new_userid\", test_df[\"new_userid\"].cast(IntegerType()))\n",
    "test_df = test_df.withColumn(\"new_trackid\", test_df[\"new_trackid\"].cast(IntegerType()))"
   ]
  },
  {
   "cell_type": "code",
   "execution_count": 37,
   "metadata": {},
   "outputs": [
    {
     "name": "stderr",
     "output_type": "stream",
     "text": [
      "[Stage 21:==================================================>       (7 + 1) / 8]\r"
     ]
    }
   ],
   "source": [
    "# Cache those to save memory\n",
    "\n",
    "train_df = train_df.cache()\n",
    "valid_df = valid_df.cache()\n",
    "test_df = test_df.cache()"
   ]
  },
  {
   "cell_type": "code",
   "execution_count": 38,
   "metadata": {},
   "outputs": [
    {
     "name": "stdout",
     "output_type": "stream",
     "text": [
      "+------------------+--------------------+---------+----------+-----------+\n",
      "|          track_id|             user_id|frequency|new_userid|new_trackid|\n",
      "+------------------+--------------------+---------+----------+-----------+\n",
      "|TRAADQX128F422B4CF|00c54b607a321a950...|      1.0|      2188|        345|\n",
      "|TRAADQX128F422B4CF|01cd07155ccfcfc50...|     13.0|      1312|        345|\n",
      "|TRAADQX128F422B4CF|05df754fcf0e31da0...|      2.0|      2032|        345|\n",
      "|TRAADQX128F422B4CF|06e39f9d2033c0e0a...|      1.0|       509|        345|\n",
      "|TRAADQX128F422B4CF|10afd8a7eab88c47e...|      1.0|      1335|        345|\n",
      "+------------------+--------------------+---------+----------+-----------+\n",
      "only showing top 5 rows\n",
      "\n"
     ]
    },
    {
     "name": "stderr",
     "output_type": "stream",
     "text": [
      "                                                                                \r"
     ]
    }
   ],
   "source": [
    "train_df.show(5)"
   ]
  },
  {
   "cell_type": "markdown",
   "metadata": {},
   "source": [
    "## Alternative Least Square (ALS) with Spark ML\n",
    "\n",
    "\n",
    "- Initialize ALS with Spark ML\n",
    "- Set RMSE as evaluation metric\n",
    "- Perform Cross Validation - Grid Search to find the best parameters\n",
    "- Generate personalized playlists based on listening history"
   ]
  },
  {
   "cell_type": "code",
   "execution_count": 39,
   "metadata": {},
   "outputs": [
    {
     "name": "stderr",
     "output_type": "stream",
     "text": [
      "[Stage 21:==================================================>       (7 + 1) / 8]\r"
     ]
    }
   ],
   "source": [
    "from pyspark.ml.recommendation import ALS\n",
    "from pyspark.ml.evaluation import RegressionEvaluator\n",
    "\n",
    "# initialization\n",
    "\n",
    "als = ALS().setMaxIter(5)\\\n",
    "            .setItemCol(\"new_trackid\")\\\n",
    "            .setRatingCol(\"frequency\")\\\n",
    "            .setUserCol(\"new_userid\")"
   ]
  },
  {
   "cell_type": "code",
   "execution_count": 40,
   "metadata": {},
   "outputs": [],
   "source": [
    "# evaluation metric - RMSE\n",
    "\n",
    "eval_metric = RegressionEvaluator(predictionCol=\"prediction\",\n",
    "                           labelCol=\"frequency\",\n",
    "                           metricName=\"rmse\")"
   ]
  },
  {
   "cell_type": "code",
   "execution_count": 41,
   "metadata": {},
   "outputs": [],
   "source": [
    "# hyper parameter space for cross validation - grid search\n",
    "\n",
    "ranks = [6, 8, 10, 12]\n",
    "regParams = [0.2, 0.25, 0.3]\n",
    "errors = [[0]*len(ranks)]*len(regParams)\n",
    "models = [[0]*len(ranks)]*len(regParams)\n",
    "min_error = float('inf')\n",
    "i = 0"
   ]
  },
  {
   "cell_type": "code",
   "execution_count": 42,
   "metadata": {},
   "outputs": [
    {
     "name": "stderr",
     "output_type": "stream",
     "text": [
      "                                                                                \r"
     ]
    },
    {
     "name": "stdout",
     "output_type": "stream",
     "text": [
      "23/03/30 22:41:44 WARN InstanceBuilder$NativeBLAS: Failed to load implementation from:dev.ludovic.netlib.blas.JNIBLAS\n",
      "23/03/30 22:41:44 WARN InstanceBuilder$NativeBLAS: Failed to load implementation from:dev.ludovic.netlib.blas.ForeignLinkerBLAS\n"
     ]
    },
    {
     "name": "stderr",
     "output_type": "stream",
     "text": [
      "[Stage 21:===============>  (7 + 1) / 8][Stage 203:>               (0 + 7) / 10]\r"
     ]
    },
    {
     "name": "stdout",
     "output_type": "stream",
     "text": [
      "23/03/30 22:41:45 WARN InstanceBuilder$NativeLAPACK: Failed to load implementation from:dev.ludovic.netlib.lapack.JNILAPACK\n"
     ]
    },
    {
     "name": "stderr",
     "output_type": "stream",
     "text": [
      "                                                                                \r"
     ]
    },
    {
     "name": "stdout",
     "output_type": "stream",
     "text": [
      "rank 6, regularization parameter 0.2 the RMSE is 6.136559727301405\n"
     ]
    },
    {
     "name": "stderr",
     "output_type": "stream",
     "text": [
      "                                                                                \r"
     ]
    },
    {
     "name": "stdout",
     "output_type": "stream",
     "text": [
      "rank 8, regularization parameter 0.2 the RMSE is 6.136968497633034\n"
     ]
    },
    {
     "name": "stderr",
     "output_type": "stream",
     "text": [
      "                                                                                \r"
     ]
    },
    {
     "name": "stdout",
     "output_type": "stream",
     "text": [
      "rank 10, regularization parameter 0.2 the RMSE is 6.137380150318927\n"
     ]
    },
    {
     "name": "stderr",
     "output_type": "stream",
     "text": [
      "                                                                                \r"
     ]
    },
    {
     "name": "stdout",
     "output_type": "stream",
     "text": [
      "rank 12, regularization parameter 0.2 the RMSE is 6.138074378460237\n"
     ]
    },
    {
     "name": "stderr",
     "output_type": "stream",
     "text": [
      "                                                                                \r"
     ]
    },
    {
     "name": "stdout",
     "output_type": "stream",
     "text": [
      "rank 14, regularization parameter 0.2 the RMSE is 6.137457966803292\n"
     ]
    },
    {
     "name": "stderr",
     "output_type": "stream",
     "text": [
      "                                                                                \r"
     ]
    },
    {
     "name": "stdout",
     "output_type": "stream",
     "text": [
      "rank 6, regularization parameter 0.25 the RMSE is 6.136745582055576\n"
     ]
    },
    {
     "name": "stderr",
     "output_type": "stream",
     "text": [
      "                                                                                \r"
     ]
    },
    {
     "name": "stdout",
     "output_type": "stream",
     "text": [
      "rank 8, regularization parameter 0.25 the RMSE is 6.136776753827548\n"
     ]
    },
    {
     "name": "stderr",
     "output_type": "stream",
     "text": [
      "                                                                                \r"
     ]
    },
    {
     "name": "stdout",
     "output_type": "stream",
     "text": [
      "rank 10, regularization parameter 0.25 the RMSE is 6.137312278782019\n"
     ]
    },
    {
     "name": "stderr",
     "output_type": "stream",
     "text": [
      "[Stage 21:===============>  (7 + 1) / 8][Stage 993:=====>        (83 + 7) / 200]\r"
     ]
    },
    {
     "ename": "",
     "evalue": "",
     "output_type": "error",
     "traceback": [
      "\u001b[1;31mCanceled future for execute_request message before replies were done"
     ]
    }
   ],
   "source": [
    "for regParam in regParams:\n",
    "    j = 0\n",
    "    for rank in ranks:\n",
    "        # grid search starts\n",
    "        als.setParams(rank = rank, regParam = regParam)\n",
    "        model = als.fit(train_df)\n",
    "        \n",
    "        # validation performance\n",
    "        predict_df = model.transform(valid_df)\n",
    "\n",
    "        # Remove NaN values from prediction\n",
    "        predicted_plays_df = predict_df.filter(predict_df.prediction != float('nan'))\n",
    "        predicted_plays_df = predicted_plays_df.withColumn(\"prediction\", F.abs(F.round(predicted_plays_df[\"prediction\"],0)))\n",
    "\n",
    "        error = eval_metric.evaluate(predicted_plays_df)\n",
    "        errors[i][j] = error\n",
    "        models[i][j] = model\n",
    "        print ('rank %s, regularization parameter %s the RMSE is %s' % (rank, regParam, error))\n",
    "        if error < min_error:\n",
    "            min_error = error\n",
    "            best_params = [i,j]\n",
    "        j += 1\n",
    "    i += 1"
   ]
  },
  {
   "cell_type": "markdown",
   "metadata": {},
   "source": [
    "### On the whole dataset, it doesn't help that much to tune the hyperparameter. "
   ]
  },
  {
   "cell_type": "code",
   "execution_count": null,
   "metadata": {},
   "outputs": [],
   "source": [
    "# best parameters\n",
    "\n",
    "als.setRegParam(regParams[best_params[0]])\n",
    "als.setRank(ranks[best_params[1]])\n",
    "print ('The best regularization parameter is %s' % regParams[best_params[0]])\n",
    "print ('The best rank is %s' % ranks[best_params[1]])\n",
    "my_model = models[best_params[0]][best_params[1]]"
   ]
  },
  {
   "cell_type": "code",
   "execution_count": null,
   "metadata": {},
   "outputs": [
    {
     "name": "stdout",
     "output_type": "stream",
     "text": [
      "+------------------+--------------------+---------+----------+-----------+----------+\n",
      "|          track_id|             user_id|frequency|new_userid|new_trackid|prediction|\n",
      "+------------------+--------------------+---------+----------+-----------+----------+\n",
      "|TRJUFSI128F42BA722|149c6088e2ff76512...|      1.0|       148|        148|       2.0|\n",
      "|TRKOZVY12903CFDBD0|f2ae4721376a83b97...|     18.0|       148|        148|       2.0|\n",
      "|TRPZOLS128F427EEFB|d8b77ab59b79b6cd9...|      1.0|       148|        148|       2.0|\n",
      "|TRMPSGR128F92D31F3|999ca7ef5c7f1ad44...|      1.0|       148|        148|       2.0|\n",
      "|TRHPMLM128F92F10C5|0981a87799e11bbc9...|      1.0|       148|        148|       2.0|\n",
      "|TRDQRVE128F427BFAF|051574346cd47b612...|      1.0|       148|        148|       2.0|\n",
      "|TRYJCWT128F42635D6|ba9cf21677846e06c...|      1.0|       148|        148|       2.0|\n",
      "|TRRSGAK128E0786BAE|16a5d42ae7a16eac2...|      4.0|       463|        148|       3.0|\n",
      "|TRXZKTY128F149ACD8|d376d833b4934d516...|      5.0|       463|        148|       3.0|\n",
      "|TRRISPE128F4262A70|4534b3a9236f643c1...|      2.0|       471|        148|       3.0|\n",
      "+------------------+--------------------+---------+----------+-----------+----------+\n",
      "only showing top 10 rows\n",
      "\n"
     ]
    }
   ],
   "source": [
    "#Example of predicted plays\n",
    "predicted_plays_df.show(10)"
   ]
  },
  {
   "cell_type": "markdown",
   "metadata": {},
   "source": [
    "# Evaluation on testing data"
   ]
  },
  {
   "cell_type": "code",
   "execution_count": null,
   "metadata": {},
   "outputs": [
    {
     "name": "stdout",
     "output_type": "stream",
     "text": [
      "The final RMSE on the test set is 6.461274416023\n"
     ]
    }
   ],
   "source": [
    "predict_df = my_model.transform(test_df)\n",
    "\n",
    "# Remove nan\n",
    "predicted_test_df = predict_df.filter(predict_df.prediction != float('nan'))\n",
    "# round to int\n",
    "predicted_test_df = predicted_test_df.withColumn(\"prediction\", F.abs(F.round(predicted_test_df[\"prediction\"],0)))\n",
    "test_RMSE = eval_metric.evaluate(predicted_test_df)\n",
    "\n",
    "print('The final RMSE on the test set is {0}'.format(test_RMSE))"
   ]
  },
  {
   "cell_type": "markdown",
   "metadata": {},
   "source": [
    "### It seems to be a nice score. We need to examine the result to check if it can make sense."
   ]
  },
  {
   "cell_type": "markdown",
   "metadata": {},
   "source": [
    "# Evaluation on a specific user"
   ]
  },
  {
   "cell_type": "code",
   "execution_count": null,
   "metadata": {},
   "outputs": [],
   "source": [
    "# randomly assign a user\n",
    "user = 101\n",
    "tracks = total_df.filter(total_df.new_userid == user)\\\n",
    "                .join(metadata_df, 'track_id') \\\n",
    "                .select('new_trackid', 'artist_name', 'title') "
   ]
  },
  {
   "cell_type": "code",
   "execution_count": null,
   "metadata": {},
   "outputs": [
    {
     "name": "stdout",
     "output_type": "stream",
     "text": [
      "Tracks that user already listened to:\n",
      "+------------+-----------------+-----------------------------------------------------+\n",
      "|new_trackid |artist_name      |title                                                |\n",
      "+------------+-----------------+-----------------------------------------------------+\n",
      "|42949673382 |Spitalfield      |Those Days You Felt Alive (Album Version)            |\n",
      "|137438953622|Yellowcard       |Fighting                                             |\n",
      "|146028888098|Rise Against     |Audience Of One                                      |\n",
      "|180388626438|Cage The Elephant|Back Against The Wall                                |\n",
      "|206158430233|Rise Against     |Under The Knife                                      |\n",
      "|214748364996|Gym Class Heroes |It's OK_ But Just This Once! (Explicit Album Version)|\n",
      "|292057776186|Dr Feelgood      |Riot In Cell Block Number Nine                       |\n",
      "|352187318273|Cage The Elephant|Ain't No Rest For The Wicked (Original Version)      |\n",
      "|360777252873|Evanescence      |Bring Me To Life                                     |\n",
      "|360777252930|Saliva           |Click Click Boom                                     |\n",
      "+------------+-----------------+-----------------------------------------------------+\n",
      "only showing top 10 rows\n",
      "\n"
     ]
    }
   ],
   "source": [
    "print(\"Tracks that user already listened to:\")\n",
    "tracks.show(10, truncate=False)"
   ]
  },
  {
   "cell_type": "code",
   "execution_count": null,
   "metadata": {},
   "outputs": [],
   "source": [
    "# generate unlistened tracks\n",
    "\n",
    "listened_track = []\n",
    "for track in tracks.collect():\n",
    "    listened_track.append(track['new_trackid'])\n",
    "    \n",
    "unlistened_track = total_df.filter(~ total_df['new_trackid'].isin(listened_track))\\\n",
    "                            .select('new_trackid')\\\n",
    "                            .withColumn('new_userid', F.lit(user))\\\n",
    "                            .distinct().select('new_userid', 'new_trackid')"
   ]
  },
  {
   "cell_type": "code",
   "execution_count": null,
   "metadata": {},
   "outputs": [],
   "source": [
    "# switch data type from bigint to int\n",
    "\n",
    "unlistened_track = unlistened_track.withColumn(\"new_trackid\", unlistened_track[\"new_trackid\"].cast(IntegerType()))"
   ]
  },
  {
   "cell_type": "code",
   "execution_count": null,
   "metadata": {},
   "outputs": [],
   "source": [
    "predicted_listens = my_model.transform(unlistened_track).distinct()\n",
    "predicted_listens = predicted_listens.filter(predicted_listens['prediction'] != float('nan'))"
   ]
  },
  {
   "cell_type": "code",
   "execution_count": null,
   "metadata": {},
   "outputs": [],
   "source": [
    "spark.conf.set(\"spark.sql.crossJoin.enabled\", True)"
   ]
  },
  {
   "cell_type": "code",
   "execution_count": null,
   "metadata": {},
   "outputs": [
    {
     "name": "stdout",
     "output_type": "stream",
     "text": [
      "+----------+-----------+----------+\n",
      "|new_userid|new_trackid|prediction|\n",
      "+----------+-----------+----------+\n",
      "|       101|        463| 2.5012994|\n",
      "|       101|       1946| 1.5643767|\n",
      "|       101|       1231|  2.299659|\n",
      "|       101|        533| 2.4257603|\n",
      "|       101|         45|  2.432258|\n",
      "+----------+-----------+----------+\n",
      "only showing top 5 rows\n",
      "\n"
     ]
    }
   ],
   "source": [
    "predicted_listens.show(5)"
   ]
  },
  {
   "cell_type": "code",
   "execution_count": null,
   "metadata": {},
   "outputs": [
    {
     "name": "stdout",
     "output_type": "stream",
     "text": [
      "Predicted Unlistened Tracks for user-id 101:\n",
      "+---------------+-----------------------------------+----------+\n",
      "|artist_name    |title                              |prediction|\n",
      "+---------------+-----------------------------------+----------+\n",
      "|Martin Simpson |Pretty Saro / Long Steel Rail      |3.1813297 |\n",
      "|Daft Punk      |Indo Silver Club                   |3.179399  |\n",
      "|DJ Paul        |No More Wars In This World         |3.095704  |\n",
      "|Mad Sin        |Gone Forever                       |3.0760639 |\n",
      "|Joe Zawinul    |Arrival In New York (LP Version)   |3.0368576 |\n",
      "|Ricky Fante    |Smile                              |2.9288943 |\n",
      "|The Stooges    |Little Doll (Remastered LP Version)|2.902911  |\n",
      "|Rancid         |Motorcycle Ride (Album Version)    |2.8918796 |\n",
      "|John Mellencamp|Now More Than Ever                 |2.8734195 |\n",
      "|Amon Amarth    |North Sea Storm                    |2.8329525 |\n",
      "+---------------+-----------------------------------+----------+\n",
      "only showing top 10 rows\n",
      "\n"
     ]
    }
   ],
   "source": [
    "print('Predicted Unlistened Tracks for user-id 101:')\n",
    "pre = predicted_listens.join(total_df, 'new_trackid')\\\n",
    "                 .join(metadata_df, 'track_id')\\\n",
    "                 .select('artist_name', 'title', 'prediction')\\\n",
    "                 .distinct()\\\n",
    "                 .orderBy('prediction', ascending = False)\\\n",
    "                 \n",
    "pre.show(10, truncate=False)"
   ]
  },
  {
   "cell_type": "markdown",
   "metadata": {},
   "source": [
    "______________________________________________________________\n",
    "\n",
    "# Recommendation & Future Research\n",
    "\n",
    "Combining the collaborative filtering and content-based recommendation system can provide hybrid recommendations. According complementary advantages from various recommendation algorithm, hybrid solution such as using overlappings would recommends song to user with higher quality.For example, a hybrid system based on lyrics and listening history could make sure the users not only like the explicit topic of the track but also like the genre from a taste perspective.\n",
    "\n",
    "Further exploration:\n",
    "\n",
    "- **Users2Vec**: Word2Vec for NLP was used in this project to analyze the knowledge about songs. What if songs are considered as words and users are considered as documents ? The listening history of a user is the text content of the document. Then Word2Vec and Doc2vec can be apply to find similar songs and users.\n",
    "\n",
    "\n",
    "- **Graph algorithm**: Graph database is another new trend for online shopping recommendation systems. When modeling songs, artists, and users in a graph database, graph algorithms can help to find the relationship among those features and consider knowledge about songs, artists, and users at the same time.\n",
    "\n",
    "\n",
    "- **Content-based Filtering with music audio**: Content-based filtering in the music industry means lyric-based or text-based. However, machine learning and and deep learning are also having great processes in audio processing. Analyzing the music audio directly could be a new direction for content-based filtering.\n"
   ]
  },
  {
   "cell_type": "code",
   "execution_count": null,
   "metadata": {},
   "outputs": [],
   "source": []
  }
 ],
 "metadata": {
  "kernelspec": {
   "display_name": "Python 3",
   "language": "python",
   "name": "python3"
  },
  "language_info": {
   "codemirror_mode": {
    "name": "ipython",
    "version": 3
   },
   "file_extension": ".py",
   "mimetype": "text/x-python",
   "name": "python",
   "nbconvert_exporter": "python",
   "pygments_lexer": "ipython3",
   "version": "3.9.6"
  }
 },
 "nbformat": 4,
 "nbformat_minor": 4
}
