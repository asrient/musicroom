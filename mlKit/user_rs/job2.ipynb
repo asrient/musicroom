{
  "cells": [
    {
      "cell_type": "markdown",
      "metadata": {
        "id": "VmcaGKt6e23l"
      },
      "source": [
        "# Collaborative Filtering Song Recommendation System  \n",
        "\n",
        "- Personalized playlist - based on Alternative Least Square algorithm \n",
        "\n",
        "_______________________________________________________________________\n",
        "\n",
        "\n",
        "# Objective\n",
        "\n",
        "- Load data from csv file. format: (userId, trackId, freq).\n",
        "- Use predefined parameters from exploration notebook for ALS algorithm.\n",
        "- predict 20 unlistened songs for each user.\n",
        "- Write the final recommendations to a csv file. \n"
      ]
    },
    {
      "cell_type": "markdown",
      "metadata": {
        "id": "wPipnPbLe23o"
      },
      "source": [
        "# Set up"
      ]
    },
    {
      "cell_type": "code",
      "execution_count": 1,
      "metadata": {
        "colab": {
          "base_uri": "https://localhost:8080/"
        },
        "id": "MqTDgDOYhACb",
        "outputId": "fc7e335f-945e-45b6-d1b5-9bff172b9633"
      },
      "outputs": [],
      "source": [
        "import sys\n",
        "sys.path.insert(0,'.')\n",
        "# !pip install pandas pyspark\n",
        "\n",
        "# import os\n",
        "# import sys\n",
        "\n",
        "# os.environ['PYSPARK_PYTHON'] = sys.executable\n",
        "# os.environ['PYSPARK_DRIVER_PYTHON'] = sys.executable"
      ]
    },
    {
      "cell_type": "code",
      "execution_count": 2,
      "metadata": {
        "id": "TvGKp5zwe23p"
      },
      "outputs": [
        {
          "name": "stderr",
          "output_type": "stream",
          "text": [
            "Setting default log level to \"WARN\".\n",
            "To adjust logging level use sc.setLogLevel(newLevel). For SparkR, use setLogLevel(newLevel).\n"
          ]
        },
        {
          "name": "stdout",
          "output_type": "stream",
          "text": [
            "23/04/01 10:44:35 WARN NativeCodeLoader: Unable to load native-hadoop library for your platform... using builtin-java classes where applicable\n",
            "23/04/01 10:44:37 WARN Utils: Service 'SparkUI' could not bind on port 4040. Attempting port 4041.\n"
          ]
        }
      ],
      "source": [
        "# spark configuration\n",
        "# I might be wrong, but even running 3G file on spark is very memory consuming\n",
        "# 6s\n",
        "from Recommendor2 import ALSRecommendor\n",
        "\n",
        "\n",
        "spark = ALSRecommendor.setup_spark()\n",
        "r = ALSRecommendor(spark)"
      ]
    },
    {
      "cell_type": "markdown",
      "metadata": {
        "id": "WP0Y4-yIe23q"
      },
      "source": [
        "# Preprocess Data"
      ]
    },
    {
      "cell_type": "code",
      "execution_count": 3,
      "metadata": {
        "id": "YQFIOoY3e23r"
      },
      "outputs": [
        {
          "name": "stderr",
          "output_type": "stream",
          "text": [
            "/Users/aritra/Library/Python/3.9/lib/python/site-packages/pyspark/sql/pandas/conversion.py:604: FutureWarning: iteritems is deprecated and will be removed in a future version. Use .items instead.\n",
            "  [(c, t) for (_, c), t in zip(pdf_slice.iteritems(), arrow_types)]\n"
          ]
        }
      ],
      "source": [
        "r.load_data_from_csv('../data/input/listening_history.csv')"
      ]
    },
    {
      "cell_type": "markdown",
      "metadata": {
        "id": "wKTlNJ1Pe23r"
      },
      "source": [
        "# Collaborative Filtering"
      ]
    },
    {
      "cell_type": "markdown",
      "metadata": {
        "id": "6n4UHybLe23r"
      },
      "source": [
        "Assumption: if person A and B share similar listening history, A might be also interested in B's other songs.\n",
        "\n",
        "For this history, as for each user, we have song plays frequency for only a subset of the songs, because not all users listened to all songs. \n",
        "\n",
        "The intuition is that collaborative filtering would be able to approximate the matrix; which decompomises the matrix as the product of \"user property\" cross \"song property\".\n",
        "\n",
        "Optimization with ALS algorithm:\n",
        "\n",
        "1. First randomly fill in the users matrix.\n",
        "2. Optimize the song values that the error is minimized (least squared error).\n",
        "3. Then, hold song's value fixed and optimize the user matrix (that's why it's called alternation)."
      ]
    },
    {
      "cell_type": "markdown",
      "metadata": {
        "id": "AnPeFn5ye23s"
      },
      "source": [
        "## Alternative Least Square (ALS) with Spark ML\n",
        "\n",
        "\n",
        "- Initialize ALS with Spark ML\n",
        "- Set RMSE as evaluation metric\n",
        "- Perform Cross Validation - Grid Search to find the best parameters\n",
        "- Generate personalized playlists based on listening history"
      ]
    },
    {
      "cell_type": "code",
      "execution_count": 4,
      "metadata": {
        "colab": {
          "base_uri": "https://localhost:8080/",
          "height": 1000
        },
        "id": "Glpcf96Pe23s",
        "outputId": "6bc1b2e9-db7f-4d39-cf53-400c16ad2ae1"
      },
      "outputs": [
        {
          "name": "stdout",
          "output_type": "stream",
          "text": [
            "all data prepared!\n",
            "About to start training..\n"
          ]
        },
        {
          "name": "stderr",
          "output_type": "stream",
          "text": [
            "                                                                                \r"
          ]
        },
        {
          "name": "stdout",
          "output_type": "stream",
          "text": [
            "23/04/01 10:38:33 WARN InstanceBuilder$NativeBLAS: Failed to load implementation from:dev.ludovic.netlib.blas.JNIBLAS\n",
            "23/04/01 10:38:33 WARN InstanceBuilder$NativeBLAS: Failed to load implementation from:dev.ludovic.netlib.blas.ForeignLinkerBLAS\n",
            "23/04/01 10:38:33 WARN InstanceBuilder$NativeLAPACK: Failed to load implementation from:dev.ludovic.netlib.lapack.JNILAPACK\n",
            "Training done. Analyzing rmse..\n"
          ]
        },
        {
          "name": "stderr",
          "output_type": "stream",
          "text": [
            "                                                                                \r"
          ]
        },
        {
          "name": "stdout",
          "output_type": "stream",
          "text": [
            "The final RMSE on the test set is 0.7071067811865476\n"
          ]
        },
        {
          "data": {
            "text/plain": [
              "0.7071067811865476"
            ]
          },
          "execution_count": 4,
          "metadata": {},
          "output_type": "execute_result"
        }
      ],
      "source": [
        "r.train(rank=6, regParam=0.25)"
      ]
    },
    {
      "cell_type": "markdown",
      "metadata": {
        "id": "7EbtB777e23t"
      },
      "source": [
        "### It seems to be a nice score. We need to examine the result to check if it can make sense."
      ]
    },
    {
      "cell_type": "markdown",
      "metadata": {
        "id": "K_-at8xue23t"
      },
      "source": [
        "# Evaluation on all users"
      ]
    },
    {
      "cell_type": "code",
      "execution_count": 5,
      "metadata": {
        "id": "TyZ13wqye23u"
      },
      "outputs": [],
      "source": [
        "# only recommend to users who have listened to more than 10 songs\n",
        "\n",
        "#users = r.get_users(min_tracks_listened=1, limit=5)"
      ]
    },
    {
      "cell_type": "code",
      "execution_count": 6,
      "metadata": {},
      "outputs": [
        {
          "name": "stdout",
          "output_type": "stream",
          "text": [
            "+-------+--------+---------+\n",
            "|user_id|track_id|frequency|\n",
            "+-------+--------+---------+\n",
            "|      1|     596|        1|\n",
            "|      1|     598|        1|\n",
            "|      1|     601|        1|\n",
            "|      1|     602|        1|\n",
            "|      1|     615|        1|\n",
            "|      1|     617|        4|\n",
            "|      1|     618|        1|\n",
            "|      1|     620|       11|\n",
            "|      1|     632|        2|\n",
            "|      1|     648|        1|\n",
            "|      1|     650|       10|\n",
            "|      1|     651|        8|\n",
            "|      1|     666|       25|\n",
            "|      1|     670|        1|\n",
            "|      1|     673|        2|\n",
            "|      1|     677|        1|\n",
            "|      1|     712|        5|\n",
            "|      1|     743|        1|\n",
            "|      1|     781|        6|\n",
            "|      1|    1059|       31|\n",
            "+-------+--------+---------+\n",
            "only showing top 20 rows\n",
            "\n"
          ]
        }
      ],
      "source": [
        "#print(users)\n",
        "r.total_df.show()"
      ]
    },
    {
      "cell_type": "code",
      "execution_count": 9,
      "metadata": {
        "id": "vOthACgbe23u"
      },
      "outputs": [
        {
          "name": "stdout",
          "output_type": "stream",
          "text": [
            "Generating recommendation for user: 1\n",
            "listened_track count: 53\n",
            "+--------+----------+\n",
            "|track_id|prediction|\n",
            "+--------+----------+\n",
            "+--------+----------+\n",
            "\n",
            "Generating recommendation for user: 2\n",
            "listened_track count: 10\n",
            "+--------+----------+\n",
            "|track_id|prediction|\n",
            "+--------+----------+\n",
            "|     620| 5.4310966|\n",
            "|     650|   4.93736|\n",
            "|    1495| 4.4436245|\n",
            "|    1448| 3.9498885|\n",
            "|    1488| 3.4561522|\n",
            "+--------+----------+\n",
            "only showing top 5 rows\n",
            "\n"
          ]
        }
      ],
      "source": [
        "# recommend 20 songs to each user\n",
        "# 2m 50s for each user\n",
        "for user in r.get_users(limit=5):\n",
        "    df = r.recommend(user, limit=20)\n",
        "    df.show(5)\n"
      ]
    },
    {
      "cell_type": "code",
      "execution_count": null,
      "metadata": {},
      "outputs": [],
      "source": []
    }
  ],
  "metadata": {
    "colab": {
      "provenance": []
    },
    "kernelspec": {
      "display_name": "Python 3 (ipykernel)",
      "language": "python",
      "name": "python3"
    },
    "language_info": {
      "codemirror_mode": {
        "name": "ipython",
        "version": 3
      },
      "file_extension": ".py",
      "mimetype": "text/x-python",
      "name": "python",
      "nbconvert_exporter": "python",
      "pygments_lexer": "ipython3",
      "version": "3.9.6"
    },
    "vscode": {
      "interpreter": {
        "hash": "31f2aee4e71d21fbe5cf8b01ff0e069b9275f58929596ceb00d14d90e3e16cd6"
      }
    }
  },
  "nbformat": 4,
  "nbformat_minor": 0
}
